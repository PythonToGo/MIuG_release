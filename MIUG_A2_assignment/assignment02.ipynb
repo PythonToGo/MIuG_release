{
 "cells": [
  {
   "cell_type": "markdown",
   "id": "70b5426f",
   "metadata": {
    "deletable": false,
    "editable": false,
    "nbgrader": {
     "cell_type": "markdown",
     "checksum": "4b3cf2acef19bac2701443e7b723778a",
     "grade": false,
     "grade_id": "intro",
     "locked": true,
     "schema_version": 3,
     "solution": false,
     "task": false
    }
   },
   "source": [
    "# Second Programming Assignment\n",
    "\n",
    "The assignment provides problems regarding basic applications of linear algebra and machine learning. Use this notebook to perform the computations and insert your comments into it. All the coding must be done in Python 3. \n",
    "\n",
    "The assignment has to be submitted individually!\n",
    "\n",
    "All your plots have to be labelled properly!  (Non-labeled plots will result in point deductions!)\n",
    "\n",
    "**Non running cells/tasks will not be considered!**\n",
    "\n",
    "The tasks/questions are 1.1-1.4 and 2.1-2.20. After each task description there is an answer cell for your code or text. For coding tasks they look like this:\n",
    "```\n",
    "# YOUR CODE HERE\n",
    "```\n",
    "(You can delete the \"YOUR CODE HERE\" comment, if you like.)\n",
    "\n",
    "For markdown (text) cells the response cell will include this:\n",
    "\n",
    "**WRITE YOUR ANSWER HERE**\n",
    "\n",
    "Sometimes they are followed by test cells. You can run the test cells after you finished the task. If these cells don't show any errors, your answer is right. You can't/shouldn't edit test cells!\n",
    "\n",
    "After you finished the notebook you can hit the \"Validate\" button on the top of the notebook to see if all test are good. You can also use the \"Validate\" button on the \"Assignment\" tap on the main page of python.ldv.ei.tum.de. Some tasks will be graded manually (e.g. plots, text answers). They don't have a following test cell. \n",
    "\n",
    "Please make sure to hit the \"Submit\" button on the \"Assignment\" tab on the main page of python.ldv.ei.tum.de before the deadline passes. You will get your final score after the deadline.\n",
    "\n",
    "**Some tips:**\n",
    "- Only change cells with `# YOUR CODE HERE` or **WRITE YOUR ANSWER HERE**\n",
    "- Do not change cell types or the notebook name.\n",
    "- Do not add other .ipynb files into the miug22 folder.\n",
    "- Do not override the original files in the miug22 folder.\n",
    "- For every plot make sure that axes are correctly labeled with original labels and not encoded ones. \n",
    "- If you are asked to provide multiple plots, make sure that the titles are clear. A plot should be self explanatory, we should not have to look at your code to know what is plotted.\n",
    "\n",
    "#### Date of submission: June 29, 2022, 23:55 hrs (GMT+2)"
   ]
  },
  {
   "cell_type": "code",
   "execution_count": 1,
   "id": "d073604f",
   "metadata": {
    "deletable": false,
    "editable": false,
    "nbgrader": {
     "cell_type": "code",
     "checksum": "c8e69617ae3fa0a6658efb1a6672a48d",
     "grade": false,
     "grade_id": "imports",
     "locked": true,
     "schema_version": 3,
     "solution": false,
     "task": false
    },
    "tags": []
   },
   "outputs": [],
   "source": [
    "import pandas as pd\n",
    "import matplotlib.pyplot as plt\n",
    "import seaborn as sns\n",
    "import numpy as np"
   ]
  },
  {
   "cell_type": "markdown",
   "id": "6509ccd0",
   "metadata": {
    "deletable": false,
    "editable": false,
    "nbgrader": {
     "cell_type": "markdown",
     "checksum": "5458bdcc54944aa032a4fb278d16b6b6",
     "grade": false,
     "grade_id": "task-1-intro",
     "locked": true,
     "schema_version": 3,
     "solution": false,
     "task": false
    }
   },
   "source": [
    "## System of Equations\n",
    "We create the matrices $\\mathbf{A_1}$ and $\\mathbf{A_2}$. \n",
    "\n",
    "(Remark: The @ - operator is the matrix product in Python3. You can also use `np.dot(X,Y)` for the matrix product of `X` and `Y`.)\n",
    "\n",
    "We then create the follwing systems of equations: $\\mathbf{A_1\\cdot x} = \\mathbf{b_1}$ and $\\mathbf{A_2\\cdot x} = \\mathbf{b_2}$.\n",
    "\n",
    "Note: We use a random seed (same thing as a random state) to always get the same numbers. This task would also work without a seed, but we want every student to have the same 'random' values."
   ]
  },
  {
   "cell_type": "code",
   "execution_count": 2,
   "id": "1bad8dab",
   "metadata": {
    "deletable": false,
    "editable": false,
    "nbgrader": {
     "cell_type": "code",
     "checksum": "05bb4ddc9b615298f2e2f29fe538ab92",
     "grade": false,
     "grade_id": "task-1-gen",
     "locked": true,
     "schema_version": 3,
     "solution": false,
     "task": false
    },
    "tags": []
   },
   "outputs": [],
   "source": [
    "np.random.seed(306)\n",
    "A1 = np.random.randn(5,3) @ np.random.randn(3,4)\n",
    "A2 = np.random.randn(5,4)\n",
    "x = np.random.randn(4,1)\n",
    "b1 = A1@x\n",
    "b2 = A2@x + np.random.randn(5,1)"
   ]
  },
  {
   "cell_type": "markdown",
   "id": "97537be5",
   "metadata": {
    "deletable": false,
    "editable": false,
    "nbgrader": {
     "cell_type": "markdown",
     "checksum": "bbd1f19745bf7092cd00511920813ab7",
     "grade": false,
     "grade_id": "task-1-1",
     "locked": true,
     "schema_version": 3,
     "solution": false,
     "task": false
    }
   },
   "source": [
    "**Task 1.1**\n",
    "\n",
    "Solve the previously generated linear systems of equations $\\mathbf{A_i \\cdot x} = \\mathbf{b_i}, i = 1, 2$ by computing the Pseudo-Inverse $\\mathbf{A}_i^{\\dagger} =\n",
    "    (\\mathbf{A}_i^T\\mathbf{A}_i)^{-1}\\mathbf{A}_i^T$ in the form $\\mathbf{\\tilde{x}}_i = \\mathbf{A}_i^{\\dagger}\\cdot \\mathbf{b}_i$. Save the results in `x1_til` and `x2_til`.\n",
    "    \n",
    "Note: Use `np.linalg.inv()` for $^{-1}$."
   ]
  },
  {
   "cell_type": "code",
   "execution_count": 3,
   "id": "d5e1167f",
   "metadata": {
    "deletable": false,
    "nbgrader": {
     "cell_type": "code",
     "checksum": "3a157ebc5cff39efe97ffb00b089f99f",
     "grade": false,
     "grade_id": "task-1-1-sol",
     "locked": false,
     "schema_version": 3,
     "solution": true,
     "task": false
    }
   },
   "outputs": [],
   "source": [
    "# YOUR CODE HERE\n",
    "\n",
    "x1_til = np.linalg.inv(A1.T@A1)@A1.T@b1\n",
    "x2_til = np.linalg.inv(A2.T@A2)@A2.T@b2"
   ]
  },
  {
   "cell_type": "code",
   "execution_count": 4,
   "id": "3e9e5fb8",
   "metadata": {
    "deletable": false,
    "editable": false,
    "nbgrader": {
     "cell_type": "code",
     "checksum": "2c5962a7da50c1204787fe6eec4bd3dc",
     "grade": true,
     "grade_id": "task-1-1-test",
     "locked": true,
     "points": 1,
     "schema_version": 3,
     "solution": false,
     "task": false
    }
   },
   "outputs": [],
   "source": [
    "### BEGIN TESTS\n",
    "import hashlib\n",
    "assert hashlib.md5(str(x1_til[2]).encode()).hexdigest() == '36d4e9f6482485a4ae78a75f9ecf1b90'\n",
    "assert hashlib.md5(str(x2_til[3]).encode()).hexdigest() == '4de6139aaa0325d038656ec2e41d0c6d'\n",
    "### END TESTS"
   ]
  },
  {
   "cell_type": "markdown",
   "id": "4c84ca2d",
   "metadata": {
    "deletable": false,
    "editable": false,
    "nbgrader": {
     "cell_type": "markdown",
     "checksum": "eaef4325df2ac581c779dc1e4a2282d7",
     "grade": false,
     "grade_id": "task-1-2-intro",
     "locked": true,
     "schema_version": 3,
     "solution": false,
     "task": false
    }
   },
   "source": [
    "We then calculate the mean squared error (MSE) between $\\mathbf{x}$ and $\\mathbf{\\tilde{x}}_1$, as well as $\\mathbf{x}$ and $\\mathbf{\\tilde{x}_2}$."
   ]
  },
  {
   "cell_type": "code",
   "execution_count": 5,
   "id": "f3a7a0ec",
   "metadata": {
    "deletable": false,
    "editable": false,
    "nbgrader": {
     "cell_type": "code",
     "checksum": "ddabf69c79858f220a67920d93175056",
     "grade": false,
     "grade_id": "task-1-2-gen",
     "locked": true,
     "schema_version": 3,
     "solution": false,
     "task": false
    }
   },
   "outputs": [
    {
     "name": "stdout",
     "output_type": "stream",
     "text": [
      "MSE of x1_til: 1.873799\n",
      "MSE of x2_til: 0.503434\n"
     ]
    }
   ],
   "source": [
    "from sklearn.metrics import mean_squared_error\n",
    "mse_x1_til = mean_squared_error(x, x1_til)\n",
    "mse_x2_til = mean_squared_error(x, x2_til)\n",
    "print('MSE of x1_til: %f' % mse_x1_til)\n",
    "print('MSE of x2_til: %f' % mse_x2_til)"
   ]
  },
  {
   "cell_type": "markdown",
   "id": "b99beaeb",
   "metadata": {
    "deletable": false,
    "editable": false,
    "nbgrader": {
     "cell_type": "markdown",
     "checksum": "956d97e35f58be15b6c09a95fc06439f",
     "grade": false,
     "grade_id": "task-1-2",
     "locked": true,
     "schema_version": 3,
     "solution": false,
     "task": false
    }
   },
   "source": [
    "**Task 1.2**\n",
    "\n",
    "Why is there a difference between $\\mathbf{x}$ and $\\mathbf{\\tilde{x}}_1$ and also between $\\mathbf{x}$ and $\\mathbf{\\tilde{x}}_2$? Which difference is higher and why?\n",
    "\n",
    "'a': $\\mathbf{\\tilde{x}}_1$ has the bigger error but this is just because of the numbers generated for this specific random seed\n",
    "\n",
    "'b': $\\mathbf{\\tilde{x}}_2$ has the bigger error because we added noise to vector $b_2$\n",
    "\n",
    "'c': $\\mathbf{\\tilde{x}}_1$ has the bigger error because we’re inverting a matrix without full rank\n",
    "\n",
    "'d': $\\mathbf{\\tilde{x}}_2$ has the bigger error because we’re inverting a matrix with linear dependencies\n",
    "\n",
    "*Use a variable* `x12` *and assign your answer of the question (if 'e' would be the correct answer your code should look like this:* `x12 = 'e'`*.\n",
    "There is only one correct answer.* "
   ]
  },
  {
   "cell_type": "code",
   "execution_count": 6,
   "id": "918a3b1f",
   "metadata": {
    "deletable": false,
    "nbgrader": {
     "cell_type": "code",
     "checksum": "835bcc9ae5a263d90a5995ce533b5a0b",
     "grade": false,
     "grade_id": "task-1-2-sol",
     "locked": false,
     "schema_version": 3,
     "solution": true,
     "task": false
    }
   },
   "outputs": [],
   "source": [
    "# YOUR CODE HERE\n",
    "'''\n",
    "MSE 크다 == Error big\n",
    "x12= 'd'\n",
    "'''\n",
    "\n",
    "x12= 'c'"
   ]
  },
  {
   "cell_type": "code",
   "execution_count": null,
   "id": "0771aaef",
   "metadata": {
    "deletable": false,
    "editable": false,
    "nbgrader": {
     "cell_type": "code",
     "checksum": "476d32c68845312c0ced66a13c2bbc21",
     "grade": true,
     "grade_id": "task-1-2-test",
     "locked": true,
     "points": 1,
     "schema_version": 3,
     "solution": false,
     "task": false
    }
   },
   "outputs": [],
   "source": []
  },
  {
   "cell_type": "markdown",
   "id": "2c41964e",
   "metadata": {
    "deletable": false,
    "editable": false,
    "nbgrader": {
     "cell_type": "markdown",
     "checksum": "2ea956fc2570a533108466f3c4bf0900",
     "grade": false,
     "grade_id": "task-1-3",
     "locked": true,
     "schema_version": 3,
     "solution": false,
     "task": false
    }
   },
   "source": [
    "**Task 1.3**\n",
    "\n",
    "Solve the linear systems of equations using a pseudo-inverse computed in Python by Numpy’s linear algebra function `np.linalg.pinv()`. Calculate the MSE errors `mse_x1_pinv` and `mse_x2_pinv` similar to the cells above. "
   ]
  },
  {
   "cell_type": "code",
   "execution_count": 7,
   "id": "84244956",
   "metadata": {
    "deletable": false,
    "nbgrader": {
     "cell_type": "code",
     "checksum": "e9a97bf3ab4213442dc9c6feabd31ce6",
     "grade": false,
     "grade_id": "task-1-3-sol",
     "locked": false,
     "schema_version": 3,
     "solution": true,
     "task": false
    }
   },
   "outputs": [
    {
     "name": "stdout",
     "output_type": "stream",
     "text": [
      "MSE of x1_pinv: 0.101004\n",
      "MSE of x2_pinv: 0.503434\n"
     ]
    }
   ],
   "source": [
    "# YOUR CODE HERE\n",
    "x1_pinv = np.linalg.pinv(A1) @ b1\n",
    "x2_pinv = np.linalg.pinv(A2) @ b2\n",
    "\n",
    "mse_x1_pinv = mean_squared_error(x, x1_pinv)\n",
    "mse_x2_pinv = mean_squared_error(x, x2_pinv)\n",
    "\n",
    "\n",
    "print('MSE of x1_pinv: %f' % mse_x1_pinv)\n",
    "print('MSE of x2_pinv: %f' % mse_x2_pinv)"
   ]
  },
  {
   "cell_type": "code",
   "execution_count": 8,
   "id": "2cf63471",
   "metadata": {
    "deletable": false,
    "editable": false,
    "nbgrader": {
     "cell_type": "code",
     "checksum": "50bb45dc7d63c0337f3ca81295ff1d02",
     "grade": true,
     "grade_id": "task-1-3-test",
     "locked": true,
     "points": 1,
     "schema_version": 3,
     "solution": false,
     "task": false
    }
   },
   "outputs": [],
   "source": [
    "### BEGIN TESTS\n",
    "import hashlib\n",
    "assert hashlib.md5(str(mse_x1_pinv).encode()).hexdigest() == '739f6912e14eff3b9d7241abb3fbd546'\n",
    "assert hashlib.md5(str(mse_x2_pinv).encode()).hexdigest() == '4cdec592285cdd19dfc84f49a9bbbf2b'\n",
    "### END TESTS"
   ]
  },
  {
   "cell_type": "markdown",
   "id": "dc6c7574",
   "metadata": {
    "deletable": false,
    "editable": false,
    "nbgrader": {
     "cell_type": "markdown",
     "checksum": "81528e2d74e83c32e74d22fe591e96ee",
     "grade": false,
     "grade_id": "task-1-4",
     "locked": true,
     "schema_version": 3,
     "solution": false,
     "task": false
    }
   },
   "source": [
    "**Task 1.4**\n",
    "\n",
    "Where do you get different errors when using `np.linalg.pinv()` and why?\n",
    "\n",
    "'a': Both errors get smaller, as `np.linalg.pinv()` does a better job at inverting matrices with linear dependencies\n",
    "\n",
    "'b': The error in `x1_pinv` gets smaller. The error in `x2_pinv` does not change if a Moore-Penrose-pseudoinverse is used.\n",
    "\n",
    "'c': The error in `x2_pinv` gets smaller. The error in `x1_pinv` does not change if a Moore-Penrose-pseudoinverse is used.\n",
    "\n",
    "'d': Neither errors change, as the Moore-Penrose-pseudoinverse does exactly the same as the simple pseudoinverse we calculated before.\n",
    "\n",
    "*Use a variable* `x14` *and assign your answer of the question (if 'e' would be the correct answer your code should look like this:* `x14 = 'e'`*.\n",
    "There is only one correct answer.* "
   ]
  },
  {
   "cell_type": "code",
   "execution_count": 9,
   "id": "ad669065",
   "metadata": {
    "deletable": false,
    "nbgrader": {
     "cell_type": "code",
     "checksum": "57e8b2a7ee017fcfd2901da36565900e",
     "grade": false,
     "grade_id": "task-1-4-sol",
     "locked": false,
     "schema_version": 3,
     "solution": true,
     "task": false
    }
   },
   "outputs": [],
   "source": [
    "# YOUR CODE HERE\n",
    "x14='b'"
   ]
  },
  {
   "cell_type": "code",
   "execution_count": null,
   "id": "a80c7f3d",
   "metadata": {
    "deletable": false,
    "editable": false,
    "nbgrader": {
     "cell_type": "code",
     "checksum": "c605e86ace3b162d5c07622340cb9380",
     "grade": true,
     "grade_id": "task-1-4-test",
     "locked": true,
     "points": 1,
     "schema_version": 3,
     "solution": false,
     "task": false
    }
   },
   "outputs": [],
   "source": []
  },
  {
   "cell_type": "markdown",
   "id": "1b9a492f",
   "metadata": {
    "deletable": false,
    "editable": false,
    "nbgrader": {
     "cell_type": "markdown",
     "checksum": "398a0d5c914b1a3aa4b691f0f4deb350",
     "grade": false,
     "grade_id": "task-2-1",
     "locked": true,
     "schema_version": 3,
     "solution": false,
     "task": false
    }
   },
   "source": [
    "##  Data Inspection\n",
    "The provided dataset is a fictional one that contains different subject scores for students. It contains information such as their race / ethnicity as well as information about their parents. \n",
    "\n",
    "**Task 2.1**\n",
    "\n",
    "Start of by reading the dataset which is provided as a csv file called __'StudentsPerformance.csv'__. Load the data as a pandas dataframe called __data__. "
   ]
  },
  {
   "cell_type": "code",
   "execution_count": 10,
   "id": "eb16bf35",
   "metadata": {
    "deletable": false,
    "nbgrader": {
     "cell_type": "code",
     "checksum": "e28e23284cbb1405e591099688e2cd24",
     "grade": false,
     "grade_id": "task-2-1-sol",
     "locked": false,
     "schema_version": 3,
     "solution": true,
     "task": false
    }
   },
   "outputs": [
    {
     "data": {
      "text/html": [
       "<div>\n",
       "<style scoped>\n",
       "    .dataframe tbody tr th:only-of-type {\n",
       "        vertical-align: middle;\n",
       "    }\n",
       "\n",
       "    .dataframe tbody tr th {\n",
       "        vertical-align: top;\n",
       "    }\n",
       "\n",
       "    .dataframe thead th {\n",
       "        text-align: right;\n",
       "    }\n",
       "</style>\n",
       "<table border=\"1\" class=\"dataframe\">\n",
       "  <thead>\n",
       "    <tr style=\"text-align: right;\">\n",
       "      <th></th>\n",
       "      <th>gender</th>\n",
       "      <th>race/ethnicity</th>\n",
       "      <th>parental level of education</th>\n",
       "      <th>lunch</th>\n",
       "      <th>test preparation course</th>\n",
       "      <th>math score</th>\n",
       "      <th>reading score</th>\n",
       "      <th>writing score</th>\n",
       "    </tr>\n",
       "  </thead>\n",
       "  <tbody>\n",
       "    <tr>\n",
       "      <th>0</th>\n",
       "      <td>female</td>\n",
       "      <td>group B</td>\n",
       "      <td>bachelor's degree</td>\n",
       "      <td>standard</td>\n",
       "      <td>none</td>\n",
       "      <td>72</td>\n",
       "      <td>72</td>\n",
       "      <td>74</td>\n",
       "    </tr>\n",
       "    <tr>\n",
       "      <th>1</th>\n",
       "      <td>female</td>\n",
       "      <td>group C</td>\n",
       "      <td>bachelor's degree</td>\n",
       "      <td>standard</td>\n",
       "      <td>completed</td>\n",
       "      <td>69</td>\n",
       "      <td>90</td>\n",
       "      <td>88</td>\n",
       "    </tr>\n",
       "    <tr>\n",
       "      <th>2</th>\n",
       "      <td>female</td>\n",
       "      <td>group B</td>\n",
       "      <td>master's degree</td>\n",
       "      <td>standard</td>\n",
       "      <td>none</td>\n",
       "      <td>90</td>\n",
       "      <td>95</td>\n",
       "      <td>93</td>\n",
       "    </tr>\n",
       "    <tr>\n",
       "      <th>3</th>\n",
       "      <td>male</td>\n",
       "      <td>group A</td>\n",
       "      <td>associate's degree</td>\n",
       "      <td>free/reduced</td>\n",
       "      <td>none</td>\n",
       "      <td>47</td>\n",
       "      <td>57</td>\n",
       "      <td>44</td>\n",
       "    </tr>\n",
       "    <tr>\n",
       "      <th>4</th>\n",
       "      <td>male</td>\n",
       "      <td>group C</td>\n",
       "      <td>bachelor's degree</td>\n",
       "      <td>standard</td>\n",
       "      <td>none</td>\n",
       "      <td>76</td>\n",
       "      <td>78</td>\n",
       "      <td>75</td>\n",
       "    </tr>\n",
       "    <tr>\n",
       "      <th>...</th>\n",
       "      <td>...</td>\n",
       "      <td>...</td>\n",
       "      <td>...</td>\n",
       "      <td>...</td>\n",
       "      <td>...</td>\n",
       "      <td>...</td>\n",
       "      <td>...</td>\n",
       "      <td>...</td>\n",
       "    </tr>\n",
       "    <tr>\n",
       "      <th>995</th>\n",
       "      <td>female</td>\n",
       "      <td>group E</td>\n",
       "      <td>master's degree</td>\n",
       "      <td>standard</td>\n",
       "      <td>completed</td>\n",
       "      <td>88</td>\n",
       "      <td>99</td>\n",
       "      <td>95</td>\n",
       "    </tr>\n",
       "    <tr>\n",
       "      <th>996</th>\n",
       "      <td>male</td>\n",
       "      <td>group C</td>\n",
       "      <td>high school</td>\n",
       "      <td>free/reduced</td>\n",
       "      <td>none</td>\n",
       "      <td>62</td>\n",
       "      <td>55</td>\n",
       "      <td>55</td>\n",
       "    </tr>\n",
       "    <tr>\n",
       "      <th>997</th>\n",
       "      <td>female</td>\n",
       "      <td>group C</td>\n",
       "      <td>high school</td>\n",
       "      <td>free/reduced</td>\n",
       "      <td>completed</td>\n",
       "      <td>59</td>\n",
       "      <td>71</td>\n",
       "      <td>65</td>\n",
       "    </tr>\n",
       "    <tr>\n",
       "      <th>998</th>\n",
       "      <td>female</td>\n",
       "      <td>group D</td>\n",
       "      <td>bachelor's degree</td>\n",
       "      <td>standard</td>\n",
       "      <td>completed</td>\n",
       "      <td>68</td>\n",
       "      <td>78</td>\n",
       "      <td>77</td>\n",
       "    </tr>\n",
       "    <tr>\n",
       "      <th>999</th>\n",
       "      <td>female</td>\n",
       "      <td>group D</td>\n",
       "      <td>bachelor's degree</td>\n",
       "      <td>free/reduced</td>\n",
       "      <td>none</td>\n",
       "      <td>77</td>\n",
       "      <td>86</td>\n",
       "      <td>86</td>\n",
       "    </tr>\n",
       "  </tbody>\n",
       "</table>\n",
       "<p>1000 rows × 8 columns</p>\n",
       "</div>"
      ],
      "text/plain": [
       "     gender race/ethnicity parental level of education         lunch   \n",
       "0    female        group B           bachelor's degree      standard  \\\n",
       "1    female        group C           bachelor's degree      standard   \n",
       "2    female        group B             master's degree      standard   \n",
       "3      male        group A          associate's degree  free/reduced   \n",
       "4      male        group C           bachelor's degree      standard   \n",
       "..      ...            ...                         ...           ...   \n",
       "995  female        group E             master's degree      standard   \n",
       "996    male        group C                 high school  free/reduced   \n",
       "997  female        group C                 high school  free/reduced   \n",
       "998  female        group D           bachelor's degree      standard   \n",
       "999  female        group D           bachelor's degree  free/reduced   \n",
       "\n",
       "    test preparation course  math score  reading score  writing score  \n",
       "0                      none          72             72             74  \n",
       "1                 completed          69             90             88  \n",
       "2                      none          90             95             93  \n",
       "3                      none          47             57             44  \n",
       "4                      none          76             78             75  \n",
       "..                      ...         ...            ...            ...  \n",
       "995               completed          88             99             95  \n",
       "996                    none          62             55             55  \n",
       "997               completed          59             71             65  \n",
       "998               completed          68             78             77  \n",
       "999                    none          77             86             86  \n",
       "\n",
       "[1000 rows x 8 columns]"
      ]
     },
     "execution_count": 10,
     "metadata": {},
     "output_type": "execute_result"
    }
   ],
   "source": [
    "# YOUR CODE HERE\n",
    "data = pd.read_csv('StudentsPerformance.csv')\n",
    "data"
   ]
  },
  {
   "cell_type": "code",
   "execution_count": 11,
   "id": "8935ffd1",
   "metadata": {
    "deletable": false,
    "editable": false,
    "nbgrader": {
     "cell_type": "code",
     "checksum": "f9cffbe965d7f6018ced9fb246fb81ad",
     "grade": true,
     "grade_id": "task-2-1-test",
     "locked": true,
     "points": 1,
     "schema_version": 3,
     "solution": false,
     "task": false
    }
   },
   "outputs": [],
   "source": [
    "### BEGIN TESTS\n",
    "import hashlib\n",
    "assert hashlib.md5(data.iloc[500,6]).hexdigest() == 'd5115594e2832e7a535e9e09d5931885'\n",
    "### END TESTS"
   ]
  },
  {
   "cell_type": "markdown",
   "id": "7954d760",
   "metadata": {
    "deletable": false,
    "editable": false,
    "nbgrader": {
     "cell_type": "markdown",
     "checksum": "9f521588f45a0b40db722bfebbafff21",
     "grade": false,
     "grade_id": "task-2-2",
     "locked": true,
     "schema_version": 3,
     "solution": false,
     "task": false
    }
   },
   "source": [
    "**Task 2.2**\n",
    "\n",
    "Look at the columns in the datasets and the data types. Also print out the first few rows of the dataframe. "
   ]
  },
  {
   "cell_type": "code",
   "execution_count": 12,
   "id": "06b50e3f",
   "metadata": {
    "deletable": false,
    "nbgrader": {
     "cell_type": "code",
     "checksum": "8f4ca99b1f48b8bb11057b7536e6ec08",
     "grade": false,
     "grade_id": "task-2-2-sol-1",
     "locked": false,
     "schema_version": 3,
     "solution": true,
     "task": false
    },
    "tags": []
   },
   "outputs": [
    {
     "data": {
      "text/html": [
       "<div>\n",
       "<style scoped>\n",
       "    .dataframe tbody tr th:only-of-type {\n",
       "        vertical-align: middle;\n",
       "    }\n",
       "\n",
       "    .dataframe tbody tr th {\n",
       "        vertical-align: top;\n",
       "    }\n",
       "\n",
       "    .dataframe thead th {\n",
       "        text-align: right;\n",
       "    }\n",
       "</style>\n",
       "<table border=\"1\" class=\"dataframe\">\n",
       "  <thead>\n",
       "    <tr style=\"text-align: right;\">\n",
       "      <th></th>\n",
       "      <th>gender</th>\n",
       "      <th>race/ethnicity</th>\n",
       "      <th>parental level of education</th>\n",
       "      <th>lunch</th>\n",
       "      <th>test preparation course</th>\n",
       "      <th>math score</th>\n",
       "      <th>reading score</th>\n",
       "      <th>writing score</th>\n",
       "    </tr>\n",
       "  </thead>\n",
       "  <tbody>\n",
       "    <tr>\n",
       "      <th>0</th>\n",
       "      <td>female</td>\n",
       "      <td>group B</td>\n",
       "      <td>bachelor's degree</td>\n",
       "      <td>standard</td>\n",
       "      <td>none</td>\n",
       "      <td>72</td>\n",
       "      <td>72</td>\n",
       "      <td>74</td>\n",
       "    </tr>\n",
       "    <tr>\n",
       "      <th>1</th>\n",
       "      <td>female</td>\n",
       "      <td>group C</td>\n",
       "      <td>bachelor's degree</td>\n",
       "      <td>standard</td>\n",
       "      <td>completed</td>\n",
       "      <td>69</td>\n",
       "      <td>90</td>\n",
       "      <td>88</td>\n",
       "    </tr>\n",
       "    <tr>\n",
       "      <th>2</th>\n",
       "      <td>female</td>\n",
       "      <td>group B</td>\n",
       "      <td>master's degree</td>\n",
       "      <td>standard</td>\n",
       "      <td>none</td>\n",
       "      <td>90</td>\n",
       "      <td>95</td>\n",
       "      <td>93</td>\n",
       "    </tr>\n",
       "    <tr>\n",
       "      <th>3</th>\n",
       "      <td>male</td>\n",
       "      <td>group A</td>\n",
       "      <td>associate's degree</td>\n",
       "      <td>free/reduced</td>\n",
       "      <td>none</td>\n",
       "      <td>47</td>\n",
       "      <td>57</td>\n",
       "      <td>44</td>\n",
       "    </tr>\n",
       "    <tr>\n",
       "      <th>4</th>\n",
       "      <td>male</td>\n",
       "      <td>group C</td>\n",
       "      <td>bachelor's degree</td>\n",
       "      <td>standard</td>\n",
       "      <td>none</td>\n",
       "      <td>76</td>\n",
       "      <td>78</td>\n",
       "      <td>75</td>\n",
       "    </tr>\n",
       "  </tbody>\n",
       "</table>\n",
       "</div>"
      ],
      "text/plain": [
       "   gender race/ethnicity parental level of education         lunch   \n",
       "0  female        group B           bachelor's degree      standard  \\\n",
       "1  female        group C           bachelor's degree      standard   \n",
       "2  female        group B             master's degree      standard   \n",
       "3    male        group A          associate's degree  free/reduced   \n",
       "4    male        group C           bachelor's degree      standard   \n",
       "\n",
       "  test preparation course  math score  reading score  writing score  \n",
       "0                    none          72             72             74  \n",
       "1               completed          69             90             88  \n",
       "2                    none          90             95             93  \n",
       "3                    none          47             57             44  \n",
       "4                    none          76             78             75  "
      ]
     },
     "execution_count": 12,
     "metadata": {},
     "output_type": "execute_result"
    }
   ],
   "source": [
    "# YOUR CODE HERE\n",
    "data.head()"
   ]
  },
  {
   "cell_type": "markdown",
   "id": "77ea8d33-c4c6-4a46-8542-7e23e1ee0d44",
   "metadata": {
    "deletable": false,
    "editable": false,
    "nbgrader": {
     "cell_type": "markdown",
     "checksum": "6e768642c66c9eba7a7b426a8bd1b901",
     "grade": false,
     "grade_id": "task-2-2-intro",
     "locked": true,
     "schema_version": 3,
     "solution": false,
     "task": false
    },
    "tags": []
   },
   "source": [
    "How many of the features in the dataset are already numeric values?\n",
    "\n",
    "'a': 0\n",
    "\n",
    "'b': 1\n",
    "\n",
    "'c': 2\n",
    "\n",
    "'d': 3\n",
    "\n",
    "*Use a variable* `x22` *and assign your answer of the question (if 'e' would be the correct answer your code should look like this:* `x22='e'`*.\n",
    "There is only one correct answer.* "
   ]
  },
  {
   "cell_type": "code",
   "execution_count": 13,
   "id": "f8c2099f-a693-4618-8813-f2c9dc15e84f",
   "metadata": {
    "deletable": false,
    "nbgrader": {
     "cell_type": "code",
     "checksum": "ae4c343db5defcf1a4aacf2c25681dcd",
     "grade": false,
     "grade_id": "task-2-2-sol-2",
     "locked": false,
     "schema_version": 3,
     "solution": true,
     "task": false
    },
    "tags": []
   },
   "outputs": [],
   "source": [
    "# YOUR CODE HERE\n",
    "x22 = 'd'"
   ]
  },
  {
   "cell_type": "code",
   "execution_count": null,
   "id": "2f2b3c7e-1531-4f02-b4a5-9f96a68985e3",
   "metadata": {
    "deletable": false,
    "editable": false,
    "nbgrader": {
     "cell_type": "code",
     "checksum": "7ec1623b843e48a97f712f1e40dfeac0",
     "grade": true,
     "grade_id": "task-2-2-test",
     "locked": true,
     "points": 1,
     "schema_version": 3,
     "solution": false,
     "task": false
    },
    "tags": []
   },
   "outputs": [],
   "source": []
  },
  {
   "cell_type": "markdown",
   "id": "04e2bda9-54bb-417b-821b-986ab03ea106",
   "metadata": {
    "deletable": false,
    "editable": false,
    "nbgrader": {
     "cell_type": "markdown",
     "checksum": "11a456efcf7aa265b904912db4892d9f",
     "grade": false,
     "grade_id": "task-2-3",
     "locked": true,
     "schema_version": 3,
     "solution": false,
     "task": false
    },
    "tags": []
   },
   "source": [
    "**Task 2.3**\n",
    "\n",
    "How many of the first 5 students have completed the test preparation course?\n",
    "\n",
    "'a': 0\n",
    "\n",
    "'b': 1\n",
    "\n",
    "'c': 2\n",
    "\n",
    "'d': 3\n",
    "\n",
    "*Use a variable* `x32` *and assign your answer of the question (if 'e' would be the correct answer your code should look like this:* `x23='e'`*.\n",
    "There is only one correct answer.* "
   ]
  },
  {
   "cell_type": "code",
   "execution_count": 14,
   "id": "6b827593-4ffe-4fec-9954-f9000314da51",
   "metadata": {
    "deletable": false,
    "nbgrader": {
     "cell_type": "code",
     "checksum": "e2664a3ff48bf4c83eb5b6782fba73be",
     "grade": false,
     "grade_id": "task-2-3-sol",
     "locked": false,
     "schema_version": 3,
     "solution": true,
     "task": false
    },
    "tags": []
   },
   "outputs": [],
   "source": [
    "# YOUR CODE HERE\n",
    "x23 = 'b'"
   ]
  },
  {
   "cell_type": "code",
   "execution_count": null,
   "id": "377d986d-8339-4814-894c-38814d044ddb",
   "metadata": {
    "deletable": false,
    "editable": false,
    "nbgrader": {
     "cell_type": "code",
     "checksum": "4de2ac11e1d1d0c2a2c32ffdbdff049f",
     "grade": true,
     "grade_id": "task-2-3-test",
     "locked": true,
     "points": 1,
     "schema_version": 3,
     "solution": false,
     "task": false
    },
    "tags": []
   },
   "outputs": [],
   "source": []
  },
  {
   "cell_type": "markdown",
   "id": "7f54d96e",
   "metadata": {
    "deletable": false,
    "editable": false,
    "nbgrader": {
     "cell_type": "markdown",
     "checksum": "e88bc089c043175158a60a9ae56653d3",
     "grade": false,
     "grade_id": "task-2-4",
     "locked": true,
     "schema_version": 3,
     "solution": false,
     "task": false
    },
    "tags": []
   },
   "source": [
    "**Task 2.4**\n",
    "\n",
    "We provide you with a `print_unique` function. Call the `print_unique` function with a list of categorical column names (list of names of the columns of all the categorical features in the dataset) and the associated data frame. You should then be able to see all the unique categories for each column. We've provided an exemplary list. You have to replace the column names (`first_feature_name`,...) with the correct ones."
   ]
  },
  {
   "cell_type": "code",
   "execution_count": 15,
   "id": "1598e978",
   "metadata": {
    "deletable": false,
    "editable": false,
    "nbgrader": {
     "cell_type": "code",
     "checksum": "2f91daa896858afe9f85423bca4d9b43",
     "grade": false,
     "grade_id": "task-2-4-gen",
     "locked": true,
     "schema_version": 3,
     "solution": false,
     "task": false
    },
    "tags": []
   },
   "outputs": [],
   "source": [
    "def print_unique(data, col_names):\n",
    "    for col in col_names:\n",
    "        print(col, ': ', data[col].unique())"
   ]
  },
  {
   "cell_type": "code",
   "execution_count": 16,
   "id": "5d9c15ca",
   "metadata": {
    "deletable": false,
    "nbgrader": {
     "cell_type": "code",
     "checksum": "819c2962361d213fb7de64e5c3bbc75c",
     "grade": false,
     "grade_id": "task-2-4-sol-1",
     "locked": false,
     "schema_version": 3,
     "solution": true,
     "task": false
    },
    "tags": []
   },
   "outputs": [
    {
     "name": "stdout",
     "output_type": "stream",
     "text": [
      "     gender race/ethnicity parental level of education         lunch   \n",
      "0    female        group B           bachelor's degree      standard  \\\n",
      "1    female        group C           bachelor's degree      standard   \n",
      "2    female        group B             master's degree      standard   \n",
      "3      male        group A          associate's degree  free/reduced   \n",
      "4      male        group C           bachelor's degree      standard   \n",
      "..      ...            ...                         ...           ...   \n",
      "995  female        group E             master's degree      standard   \n",
      "996    male        group C                 high school  free/reduced   \n",
      "997  female        group C                 high school  free/reduced   \n",
      "998  female        group D           bachelor's degree      standard   \n",
      "999  female        group D           bachelor's degree  free/reduced   \n",
      "\n",
      "    test preparation course  math score  reading score  writing score  \n",
      "0                      none          72             72             74  \n",
      "1                 completed          69             90             88  \n",
      "2                      none          90             95             93  \n",
      "3                      none          47             57             44  \n",
      "4                      none          76             78             75  \n",
      "..                      ...         ...            ...            ...  \n",
      "995               completed          88             99             95  \n",
      "996                    none          62             55             55  \n",
      "997               completed          59             71             65  \n",
      "998               completed          68             78             77  \n",
      "999                    none          77             86             86  \n",
      "\n",
      "[1000 rows x 8 columns] ['gender', 'race/ethnicity', 'parental level of education', 'lunch', 'test preparation course', 'math score', 'reading score', 'writing score']\n"
     ]
    }
   ],
   "source": [
    "columns = ['gender', 'race/ethnicity', 'parental level of education', 'lunch', 'test preparation course', 'math score', 'reading score', 'writing score']\n",
    "\n",
    "# YOUR CODE HERE\n",
    "print(data,columns)"
   ]
  },
  {
   "cell_type": "code",
   "execution_count": 17,
   "id": "cd16e499-2f2c-4611-8103-c43548a5802a",
   "metadata": {
    "tags": []
   },
   "outputs": [
    {
     "name": "stdout",
     "output_type": "stream",
     "text": [
      "Number of binary categorical features: 3\n"
     ]
    }
   ],
   "source": [
    "binary_count = 0\n",
    "\n",
    "# Iterate through each categorical column\n",
    "for col in columns:\n",
    "    unique_values = data[col].unique()\n",
    "    if len(unique_values) == 2:  # Check if only two unique values are present\n",
    "        binary_count += 1\n",
    "\n",
    "print(\"Number of binary categorical features:\", binary_count)"
   ]
  },
  {
   "cell_type": "markdown",
   "id": "91399f70-e2b3-403f-93e5-44286970a073",
   "metadata": {
    "deletable": false,
    "editable": false,
    "nbgrader": {
     "cell_type": "markdown",
     "checksum": "2b640ddb2710aec2bf5190ba50064ef0",
     "grade": false,
     "grade_id": "task-2-4-intro",
     "locked": true,
     "schema_version": 3,
     "solution": false,
     "task": false
    },
    "tags": []
   },
   "source": [
    "How many of the categorical features are binary?\n",
    "\n",
    "'a': 0\n",
    "\n",
    "'b': 1\n",
    "\n",
    "'c': 2\n",
    "\n",
    "'d': 3\n",
    "\n",
    "*Use a variable* `x24` *and assign your answer of the question (if 'e' would be the correct answer your code should look like this:* `x24='e'`*.\n",
    "There is only one correct answer.* "
   ]
  },
  {
   "cell_type": "code",
   "execution_count": 18,
   "id": "00f9d3cf-6154-4425-a13b-b1826ced6be0",
   "metadata": {
    "deletable": false,
    "nbgrader": {
     "cell_type": "code",
     "checksum": "52844f56e1ab872bfc3c3ee0e7b85ffb",
     "grade": false,
     "grade_id": "task-2-4-sol-2",
     "locked": false,
     "schema_version": 3,
     "solution": true,
     "task": false
    },
    "tags": []
   },
   "outputs": [],
   "source": [
    "# YOUR CODE HERE\n",
    "x24 = 'd'\n",
    "# gender, lunch, test preparation course"
   ]
  },
  {
   "cell_type": "code",
   "execution_count": null,
   "id": "3ceb124c-1b6c-4ab4-acd7-7ce76e3d74d1",
   "metadata": {
    "deletable": false,
    "editable": false,
    "nbgrader": {
     "cell_type": "code",
     "checksum": "94eb3c0ed1eb94135b73418f5ba7b138",
     "grade": true,
     "grade_id": "task-2-4-test",
     "locked": true,
     "points": 1,
     "schema_version": 3,
     "solution": false,
     "task": false
    },
    "tags": []
   },
   "outputs": [],
   "source": []
  },
  {
   "cell_type": "markdown",
   "id": "b4224d7a",
   "metadata": {
    "deletable": false,
    "editable": false,
    "nbgrader": {
     "cell_type": "markdown",
     "checksum": "7be1bf927cd1713d55bd5a16a8188984",
     "grade": false,
     "grade_id": "task-2-5",
     "locked": true,
     "schema_version": 3,
     "solution": false,
     "task": false
    },
    "tags": []
   },
   "source": [
    "We will start by focusing on the reading score. \n",
    "\n",
    "**Task 2.5**\n",
    "\n",
    "Plot the kernel density estimation of the variable `reading score` using seaborn(`sns`). Use the values from `gender` as classes and display them as hue. Make sure your plot has a title, a legend and labels on the axes.\n",
    "\n",
    "*Don't change the first line of code and don't add any additional `plt.figure()`. Your plot must stay assigned to the variable `fig_25`. It is used to check if your plot is correct.*"
   ]
  },
  {
   "cell_type": "code",
   "execution_count": 19,
   "id": "f7d05b42",
   "metadata": {
    "deletable": false,
    "nbgrader": {
     "cell_type": "code",
     "checksum": "81067fa4f2754cd1f8436b93def88482",
     "grade": false,
     "grade_id": "task-2-5-sol",
     "locked": false,
     "schema_version": 3,
     "solution": true,
     "task": false
    },
    "tags": []
   },
   "outputs": [
    {
     "data": {
      "image/png": "[encoded data removed]",
      "text/plain": [
       "<Figure size 640x480 with 1 Axes>"
      ]
     },
     "metadata": {},
     "output_type": "display_data"
    }
   ],
   "source": [
    "fig_25 = plt.figure()\n",
    "\n",
    "# YOUR CODE HERE\n",
    "# Plot KDE with gender as hue\n",
    "sns.kdeplot(data=data, x='reading score', hue='gender')\n",
    "\n",
    "# Set title and labels\n",
    "plt.title(\"Kernel Density Estimation of Reading Score\")\n",
    "plt.xlabel(\"Reading Score\")\n",
    "plt.ylabel(\"Density\")\n",
    "#plt.legend(data['gender'])\n",
    "\n",
    "plt.show()"
   ]
  },
  {
   "cell_type": "code",
   "execution_count": null,
   "id": "e9d4c8f5-c9c0-475a-993f-9b8d5bc4a9c3",
   "metadata": {
    "deletable": false,
    "editable": false,
    "nbgrader": {
     "cell_type": "code",
     "checksum": "9a1a5159180e04bd29c340d23372d581",
     "grade": true,
     "grade_id": "task-2-5-test-1",
     "locked": true,
     "points": 1,
     "schema_version": 3,
     "solution": false,
     "task": false
    },
    "tags": []
   },
   "outputs": [],
   "source": []
  },
  {
   "cell_type": "code",
   "execution_count": null,
   "id": "4c4e0d41-c436-4237-82cc-88591eec1683",
   "metadata": {
    "deletable": false,
    "editable": false,
    "nbgrader": {
     "cell_type": "code",
     "checksum": "91603e281c2575c155c1b631ad7f9735",
     "grade": true,
     "grade_id": "task-2-5-test-2",
     "locked": true,
     "points": 1,
     "schema_version": 3,
     "solution": false,
     "task": false
    },
    "tags": []
   },
   "outputs": [],
   "source": []
  },
  {
   "cell_type": "markdown",
   "id": "51659808-1a7a-4605-bf08-71880e6cf4c8",
   "metadata": {
    "deletable": false,
    "editable": false,
    "nbgrader": {
     "cell_type": "markdown",
     "checksum": "8e82884f6b07d2c01e6998ba4f9ee521",
     "grade": false,
     "grade_id": "task-2-6",
     "locked": true,
     "schema_version": 3,
     "solution": false,
     "task": false
    },
    "tags": []
   },
   "source": [
    "**Task 2.6**\n",
    "\n",
    "Plot the kernel density estimation of the variable `reading score` using seaborn(`sns`). Use the values from `race/ethnicity` as classes and display them as hue. Make sure your plot has a title, a legend and labels on the axes.\n",
    "\n",
    "*Don't change the first line of code and don't add any additional `plt.figure()`. Your plot must stay assigned to the variable `fig_26`. It is used to check if your plot is correct.*"
   ]
  },
  {
   "cell_type": "code",
   "execution_count": 20,
   "id": "952f18b9-52f7-4c88-bb51-c6e759eb3061",
   "metadata": {
    "deletable": false,
    "nbgrader": {
     "cell_type": "code",
     "checksum": "2e6d553c6bab80da07915144f7c16cbd",
     "grade": false,
     "grade_id": "task-2-6-sol",
     "locked": false,
     "schema_version": 3,
     "solution": true,
     "task": false
    },
    "tags": []
   },
   "outputs": [
    {
     "data": {
      "image/png": "[encoded data removed]",
      "text/plain": [
       "<Figure size 640x480 with 1 Axes>"
      ]
     },
     "metadata": {},
     "output_type": "display_data"
    }
   ],
   "source": [
    "fig_26 = plt.figure()\n",
    "\n",
    "# Plot KDE with gender as hue\n",
    "sns.kdeplot(data=data, x='reading score', hue='race/ethnicity')\n",
    "\n",
    "# Set title and labels\n",
    "plt.title(\"Kernel Density Estimation of Reading Score\")\n",
    "plt.xlabel(\"Reading Score\")\n",
    "plt.ylabel(\"race/ethnicity\")\n",
    "#plt.legend(data['race/ethnicity'])\n",
    "\n",
    "\n",
    "plt.show()"
   ]
  },
  {
   "cell_type": "code",
   "execution_count": null,
   "id": "baf170ef-1370-4840-9871-807d7ff079bd",
   "metadata": {
    "deletable": false,
    "editable": false,
    "nbgrader": {
     "cell_type": "code",
     "checksum": "619892ed4c0c8a6d7ad62319b7d1c251",
     "grade": true,
     "grade_id": "task-2-6-test-1",
     "locked": true,
     "points": 1,
     "schema_version": 3,
     "solution": false,
     "task": false
    },
    "tags": []
   },
   "outputs": [],
   "source": []
  },
  {
   "cell_type": "code",
   "execution_count": null,
   "id": "38f9da09-c317-432d-8589-b3fa9844bc74",
   "metadata": {
    "deletable": false,
    "editable": false,
    "nbgrader": {
     "cell_type": "code",
     "checksum": "c32f28f1012aaf7d2d20c9321e0df96a",
     "grade": true,
     "grade_id": "task-2-6-test-2",
     "locked": true,
     "points": 1,
     "schema_version": 3,
     "solution": false,
     "task": false
    },
    "tags": []
   },
   "outputs": [],
   "source": []
  },
  {
   "cell_type": "markdown",
   "id": "bd55221f",
   "metadata": {
    "deletable": false,
    "editable": false,
    "nbgrader": {
     "cell_type": "markdown",
     "checksum": "4dde276249d19cf2f0351ad23b2a6674",
     "grade": false,
     "grade_id": "task-2-7",
     "locked": true,
     "schema_version": 3,
     "solution": false,
     "task": false
    },
    "tags": []
   },
   "source": [
    "## Data Preprocessing\n",
    "\n",
    "**Task 2.7**\n",
    "\n",
    "Create a feature matrix called __X_all__ that does not include the column `reading score`. Also create the vector __y__."
   ]
  },
  {
   "cell_type": "code",
   "execution_count": 21,
   "id": "bb2e2a77",
   "metadata": {
    "deletable": false,
    "nbgrader": {
     "cell_type": "code",
     "checksum": "81cd63691e8eadc8592bb81c1e7b0119",
     "grade": false,
     "grade_id": "task-2-7-sol",
     "locked": false,
     "schema_version": 3,
     "solution": true,
     "task": false
    },
    "tags": []
   },
   "outputs": [],
   "source": [
    "# YOUR CODE HERE\n",
    "X_all = data.drop('reading score', axis=1)\n",
    "y = data['reading score']"
   ]
  },
  {
   "cell_type": "code",
   "execution_count": 22,
   "id": "f5b47223",
   "metadata": {
    "deletable": false,
    "editable": false,
    "nbgrader": {
     "cell_type": "code",
     "checksum": "1af868eee3fb09694deea484d67cd764",
     "grade": true,
     "grade_id": "task-2-7-test",
     "locked": true,
     "points": 1,
     "schema_version": 3,
     "solution": false,
     "task": false
    },
    "tags": []
   },
   "outputs": [],
   "source": [
    "### BEGIN TESTS\n",
    "import hashlib\n",
    "assert hashlib.md5(str(y[701]).encode()).hexdigest() == '735b90b4568125ed6c3f678819b6e058'\n",
    "assert hashlib.md5(str(X_all.iloc[301,3]).encode()).hexdigest() == 'f2a9665246ed76059d0b72bec387cef0'\n",
    "assert hashlib.md5(str(len(X_all.columns)).encode()).hexdigest() == '8f14e45fceea167a5a36dedd4bea2543'\n",
    "### END TESTS"
   ]
  },
  {
   "cell_type": "markdown",
   "id": "60359ee8",
   "metadata": {
    "deletable": false,
    "editable": false,
    "nbgrader": {
     "cell_type": "markdown",
     "checksum": "b57c45567493d428dfaed8036f9fc6f2",
     "grade": false,
     "grade_id": "task-2-8",
     "locked": true,
     "schema_version": 3,
     "solution": false,
     "task": false
    },
    "tags": []
   },
   "source": [
    "**Task 2.8**\n",
    "\n",
    "In the cell below we use the dictionary `replacements` to encode the feature `parental level of education`. Why don't we just use the label encoder?\n",
    "\n",
    "'a': The label encoder would assign numbers in alphabetical order.\n",
    "\n",
    "'b': The label encoder would unnecessarily enlarge the dataset.\n",
    "\n",
    "'c': The “replace” function is more computationally efficient than the label encoder.\n",
    "\n",
    "'d': The label encoder cannot handle special characters like apostrophes.\n",
    "\n",
    "*Use a variable* `x28` *and assign your answer of the question (if 'e' would be the correct answer your code should look like this:* `x28 = 'e'`*.\n",
    "There is only one correct answer.* "
   ]
  },
  {
   "cell_type": "code",
   "execution_count": 23,
   "id": "c066acc5",
   "metadata": {
    "deletable": false,
    "editable": false,
    "nbgrader": {
     "cell_type": "code",
     "checksum": "a5f22b3f6641ec1bffece9b64f52b513",
     "grade": false,
     "grade_id": "task-2-8-gen",
     "locked": true,
     "schema_version": 3,
     "solution": false,
     "task": false
    },
    "tags": []
   },
   "outputs": [],
   "source": [
    "X_lvl = X_all[['parental level of education']]\n",
    "replacements = {\"high school\": 0, \"associate's degree\":1, \"bachelor's degree\": 2, \"master's degree\": 3}\n",
    "X_lvl = X_lvl.replace(replacements)"
   ]
  },
  {
   "cell_type": "code",
   "execution_count": 24,
   "id": "0649686a",
   "metadata": {
    "deletable": false,
    "nbgrader": {
     "cell_type": "code",
     "checksum": "9329fbab6f46f6c012620bb780b01dba",
     "grade": false,
     "grade_id": "task-2-8-sol",
     "locked": false,
     "schema_version": 3,
     "solution": true,
     "task": false
    },
    "tags": []
   },
   "outputs": [],
   "source": [
    "# YOUR CODE HERE\n",
    "x28 = 'a'"
   ]
  },
  {
   "cell_type": "code",
   "execution_count": null,
   "id": "9f06ee7a",
   "metadata": {
    "deletable": false,
    "editable": false,
    "nbgrader": {
     "cell_type": "code",
     "checksum": "41b5deead27b667e7b40cd3cf1ce2b3b",
     "grade": true,
     "grade_id": "task-2-8-test",
     "locked": true,
     "points": 1,
     "schema_version": 3,
     "solution": false,
     "task": false
    },
    "tags": []
   },
   "outputs": [],
   "source": []
  },
  {
   "cell_type": "markdown",
   "id": "bfc35074",
   "metadata": {
    "deletable": false,
    "editable": false,
    "nbgrader": {
     "cell_type": "markdown",
     "checksum": "21c65f9a746bedce2a12a52554ed5cce",
     "grade": false,
     "grade_id": "task-2-9",
     "locked": true,
     "schema_version": 3,
     "solution": false,
     "task": false
    },
    "tags": []
   },
   "source": [
    "**Task 2.9**\n",
    "\n",
    "There are 4 other categorical columns that have not been encoded. 3 of them are binary, create the dataframe `X_binary` that only contains those features. Use the sklearn label encoder to encode each binary categorical feature. Print the first few samples of `X_binary`. \n",
    "\n",
    "Hint: The label encoder can take one column at a time."
   ]
  },
  {
   "cell_type": "code",
   "execution_count": 25,
   "id": "02095da3",
   "metadata": {
    "deletable": false,
    "nbgrader": {
     "cell_type": "code",
     "checksum": "32312405281fa2c79b1953a49f9ec468",
     "grade": false,
     "grade_id": "task-2-9-sol",
     "locked": false,
     "schema_version": 3,
     "solution": true,
     "task": false
    },
    "tags": []
   },
   "outputs": [
    {
     "name": "stdout",
     "output_type": "stream",
     "text": [
      "   gender  lunch  test preparation course\n",
      "0       0      1                        1\n",
      "1       0      1                        0\n",
      "2       0      1                        1\n",
      "3       1      0                        1\n",
      "4       1      1                        1\n"
     ]
    }
   ],
   "source": [
    "from sklearn.preprocessing import LabelEncoder\n",
    "\n",
    "# YOUR CODE HERE\n",
    "binary_columns = ['gender', 'lunch', 'test preparation course']\n",
    "X_binary = data[binary_columns].copy()\n",
    "label_encoder = LabelEncoder()\n",
    "for column in X_binary.columns:\n",
    "    X_binary[column] = label_encoder.fit_transform(X_binary[column])\n",
    "    \n",
    "\n",
    "print(X_binary.head())"
   ]
  },
  {
   "cell_type": "code",
   "execution_count": 26,
   "id": "627128f0",
   "metadata": {
    "deletable": false,
    "editable": false,
    "nbgrader": {
     "cell_type": "code",
     "checksum": "6236b5bd10f00bdb8cc3fe892a514dcc",
     "grade": true,
     "grade_id": "task-2-9-test",
     "locked": true,
     "points": 3,
     "schema_version": 3,
     "solution": false,
     "task": false
    },
    "tags": []
   },
   "outputs": [],
   "source": [
    "### BEGIN TESTS\n",
    "import hashlib\n",
    "assert hashlib.md5(str(sum(X_binary.sum())).encode()).hexdigest() == '7eb7eabbe9bd03c2fc99881d04da9cbd'\n",
    "### END TESTS"
   ]
  },
  {
   "cell_type": "markdown",
   "id": "6e8eb663",
   "metadata": {
    "deletable": false,
    "editable": false,
    "nbgrader": {
     "cell_type": "markdown",
     "checksum": "81b9ae123cdfcf04ee508335132a1ad6",
     "grade": false,
     "grade_id": "task-2-10",
     "locked": true,
     "schema_version": 3,
     "solution": false,
     "task": false
    },
    "tags": []
   },
   "source": [
    "**Task 2.10**\n",
    "\n",
    "The next cell will encode the `race/ethnicity` column. A so-called one-hot encoding is used, instead of a label encoder. Which of the following is *not* a reason for this choice of encoding?\n",
    "\n",
    "'a': Because `race/ethnicity` is a categorical variable.\n",
    "\n",
    "'b': Because `race/ethnicity` is a nominal variable.\n",
    "\n",
    "'c': Because `race/ethnicity` does not have a natural ordering.\n",
    "\n",
    "'d': To improve the performance of the algorithm.\n",
    "\n",
    "*Use a variable* `x210` *and assign your answer of the question (if 'e' would be the correct answer your code should look like this:* `x210 = 'e'`*.\n",
    "There is only one correct answer.* "
   ]
  },
  {
   "cell_type": "code",
   "execution_count": 27,
   "id": "5df2b73d",
   "metadata": {
    "deletable": false,
    "editable": false,
    "nbgrader": {
     "cell_type": "code",
     "checksum": "2ccbf88f74c58aef8221b90a174413dd",
     "grade": false,
     "grade_id": "task-2-10-gen",
     "locked": true,
     "schema_version": 3,
     "solution": false,
     "task": false
    },
    "tags": []
   },
   "outputs": [
    {
     "data": {
      "text/html": [
       "<div>\n",
       "<style scoped>\n",
       "    .dataframe tbody tr th:only-of-type {\n",
       "        vertical-align: middle;\n",
       "    }\n",
       "\n",
       "    .dataframe tbody tr th {\n",
       "        vertical-align: top;\n",
       "    }\n",
       "\n",
       "    .dataframe thead th {\n",
       "        text-align: right;\n",
       "    }\n",
       "</style>\n",
       "<table border=\"1\" class=\"dataframe\">\n",
       "  <thead>\n",
       "    <tr style=\"text-align: right;\">\n",
       "      <th></th>\n",
       "      <th>race_group A</th>\n",
       "      <th>race_group B</th>\n",
       "      <th>race_group C</th>\n",
       "      <th>race_group D</th>\n",
       "      <th>race_group E</th>\n",
       "    </tr>\n",
       "  </thead>\n",
       "  <tbody>\n",
       "    <tr>\n",
       "      <th>0</th>\n",
       "      <td>False</td>\n",
       "      <td>True</td>\n",
       "      <td>False</td>\n",
       "      <td>False</td>\n",
       "      <td>False</td>\n",
       "    </tr>\n",
       "    <tr>\n",
       "      <th>1</th>\n",
       "      <td>False</td>\n",
       "      <td>False</td>\n",
       "      <td>True</td>\n",
       "      <td>False</td>\n",
       "      <td>False</td>\n",
       "    </tr>\n",
       "    <tr>\n",
       "      <th>2</th>\n",
       "      <td>False</td>\n",
       "      <td>True</td>\n",
       "      <td>False</td>\n",
       "      <td>False</td>\n",
       "      <td>False</td>\n",
       "    </tr>\n",
       "    <tr>\n",
       "      <th>3</th>\n",
       "      <td>True</td>\n",
       "      <td>False</td>\n",
       "      <td>False</td>\n",
       "      <td>False</td>\n",
       "      <td>False</td>\n",
       "    </tr>\n",
       "    <tr>\n",
       "      <th>4</th>\n",
       "      <td>False</td>\n",
       "      <td>False</td>\n",
       "      <td>True</td>\n",
       "      <td>False</td>\n",
       "      <td>False</td>\n",
       "    </tr>\n",
       "  </tbody>\n",
       "</table>\n",
       "</div>"
      ],
      "text/plain": [
       "   race_group A  race_group B  race_group C  race_group D  race_group E\n",
       "0         False          True         False         False         False\n",
       "1         False         False          True         False         False\n",
       "2         False          True         False         False         False\n",
       "3          True         False         False         False         False\n",
       "4         False         False          True         False         False"
      ]
     },
     "execution_count": 27,
     "metadata": {},
     "output_type": "execute_result"
    }
   ],
   "source": [
    "X_race = X_all[['race/ethnicity']]\n",
    "X_race = pd.get_dummies(X_race, prefix=['race'])\n",
    "X_race.head()"
   ]
  },
  {
   "cell_type": "code",
   "execution_count": 28,
   "id": "bc545143",
   "metadata": {
    "deletable": false,
    "nbgrader": {
     "cell_type": "code",
     "checksum": "fef57d9e5c6f55cc309f1d227bfc5ab1",
     "grade": false,
     "grade_id": "task-2-10-sol",
     "locked": false,
     "schema_version": 3,
     "solution": true,
     "task": false
    },
    "tags": []
   },
   "outputs": [],
   "source": [
    "# YOUR CODE HERE\n",
    "x210 = 'd'\n",
    "###### 몰라"
   ]
  },
  {
   "cell_type": "code",
   "execution_count": null,
   "id": "4c1565b8-bc62-4c55-a470-cc78ef441872",
   "metadata": {},
   "outputs": [],
   "source": []
  },
  {
   "cell_type": "code",
   "execution_count": null,
   "id": "56d25591",
   "metadata": {
    "deletable": false,
    "editable": false,
    "nbgrader": {
     "cell_type": "code",
     "checksum": "4e149001f964952c89ad8ffee097a665",
     "grade": true,
     "grade_id": "task-2-10-test",
     "locked": true,
     "points": 1,
     "schema_version": 3,
     "solution": false,
     "task": false
    },
    "tags": []
   },
   "outputs": [],
   "source": []
  },
  {
   "cell_type": "markdown",
   "id": "44652a8d",
   "metadata": {
    "deletable": false,
    "editable": false,
    "nbgrader": {
     "cell_type": "markdown",
     "checksum": "f35e620dc4b240ce2bb85ab40184347c",
     "grade": false,
     "grade_id": "task-2-11-gen-1",
     "locked": true,
     "schema_version": 3,
     "solution": false,
     "task": false
    },
    "tags": []
   },
   "source": [
    "Now that we've encoded all the categorical variables. We combine all our features in the `X_encoded` dataframe."
   ]
  },
  {
   "cell_type": "code",
   "execution_count": 29,
   "id": "b3270724",
   "metadata": {
    "deletable": false,
    "editable": false,
    "nbgrader": {
     "cell_type": "code",
     "checksum": "425bdb591068ba65efd172ff023181ae",
     "grade": false,
     "grade_id": "task-2-11-gen-2",
     "locked": true,
     "schema_version": 3,
     "solution": false,
     "task": false
    },
    "tags": []
   },
   "outputs": [
    {
     "data": {
      "text/html": [
       "<div>\n",
       "<style scoped>\n",
       "    .dataframe tbody tr th:only-of-type {\n",
       "        vertical-align: middle;\n",
       "    }\n",
       "\n",
       "    .dataframe tbody tr th {\n",
       "        vertical-align: top;\n",
       "    }\n",
       "\n",
       "    .dataframe thead th {\n",
       "        text-align: right;\n",
       "    }\n",
       "</style>\n",
       "<table border=\"1\" class=\"dataframe\">\n",
       "  <thead>\n",
       "    <tr style=\"text-align: right;\">\n",
       "      <th></th>\n",
       "      <th>parental level of education</th>\n",
       "      <th>gender</th>\n",
       "      <th>lunch</th>\n",
       "      <th>test preparation course</th>\n",
       "      <th>race_group A</th>\n",
       "      <th>race_group B</th>\n",
       "      <th>race_group C</th>\n",
       "      <th>race_group D</th>\n",
       "      <th>race_group E</th>\n",
       "      <th>writing score</th>\n",
       "      <th>math score</th>\n",
       "    </tr>\n",
       "  </thead>\n",
       "  <tbody>\n",
       "    <tr>\n",
       "      <th>0</th>\n",
       "      <td>2</td>\n",
       "      <td>0</td>\n",
       "      <td>1</td>\n",
       "      <td>1</td>\n",
       "      <td>False</td>\n",
       "      <td>True</td>\n",
       "      <td>False</td>\n",
       "      <td>False</td>\n",
       "      <td>False</td>\n",
       "      <td>74</td>\n",
       "      <td>72</td>\n",
       "    </tr>\n",
       "    <tr>\n",
       "      <th>1</th>\n",
       "      <td>2</td>\n",
       "      <td>0</td>\n",
       "      <td>1</td>\n",
       "      <td>0</td>\n",
       "      <td>False</td>\n",
       "      <td>False</td>\n",
       "      <td>True</td>\n",
       "      <td>False</td>\n",
       "      <td>False</td>\n",
       "      <td>88</td>\n",
       "      <td>69</td>\n",
       "    </tr>\n",
       "    <tr>\n",
       "      <th>2</th>\n",
       "      <td>3</td>\n",
       "      <td>0</td>\n",
       "      <td>1</td>\n",
       "      <td>1</td>\n",
       "      <td>False</td>\n",
       "      <td>True</td>\n",
       "      <td>False</td>\n",
       "      <td>False</td>\n",
       "      <td>False</td>\n",
       "      <td>93</td>\n",
       "      <td>90</td>\n",
       "    </tr>\n",
       "    <tr>\n",
       "      <th>3</th>\n",
       "      <td>1</td>\n",
       "      <td>1</td>\n",
       "      <td>0</td>\n",
       "      <td>1</td>\n",
       "      <td>True</td>\n",
       "      <td>False</td>\n",
       "      <td>False</td>\n",
       "      <td>False</td>\n",
       "      <td>False</td>\n",
       "      <td>44</td>\n",
       "      <td>47</td>\n",
       "    </tr>\n",
       "    <tr>\n",
       "      <th>4</th>\n",
       "      <td>2</td>\n",
       "      <td>1</td>\n",
       "      <td>1</td>\n",
       "      <td>1</td>\n",
       "      <td>False</td>\n",
       "      <td>False</td>\n",
       "      <td>True</td>\n",
       "      <td>False</td>\n",
       "      <td>False</td>\n",
       "      <td>75</td>\n",
       "      <td>76</td>\n",
       "    </tr>\n",
       "  </tbody>\n",
       "</table>\n",
       "</div>"
      ],
      "text/plain": [
       "   parental level of education  gender  lunch  test preparation course   \n",
       "0                            2       0      1                        1  \\\n",
       "1                            2       0      1                        0   \n",
       "2                            3       0      1                        1   \n",
       "3                            1       1      0                        1   \n",
       "4                            2       1      1                        1   \n",
       "\n",
       "   race_group A  race_group B  race_group C  race_group D  race_group E   \n",
       "0         False          True         False         False         False  \\\n",
       "1         False         False          True         False         False   \n",
       "2         False          True         False         False         False   \n",
       "3          True         False         False         False         False   \n",
       "4         False         False          True         False         False   \n",
       "\n",
       "   writing score  math score  \n",
       "0             74          72  \n",
       "1             88          69  \n",
       "2             93          90  \n",
       "3             44          47  \n",
       "4             75          76  "
      ]
     },
     "execution_count": 29,
     "metadata": {},
     "output_type": "execute_result"
    }
   ],
   "source": [
    "X_encoded = pd.concat((X_lvl, X_binary, X_race, X_all[['writing score', 'math score']]), axis=1)\n",
    "X_encoded.head()"
   ]
  },
  {
   "cell_type": "markdown",
   "id": "66095971",
   "metadata": {
    "deletable": false,
    "editable": false,
    "nbgrader": {
     "cell_type": "markdown",
     "checksum": "06c6831dac848794cc0d68dd95a0b791",
     "grade": false,
     "grade_id": "task-2-11",
     "locked": true,
     "schema_version": 3,
     "solution": false,
     "task": false
    },
    "tags": []
   },
   "source": [
    "**Task 2.11**\n",
    "\n",
    "Split your data in training and test set. Use 25% of the data in the test set and the random state 311."
   ]
  },
  {
   "cell_type": "code",
   "execution_count": 30,
   "id": "40a1a4d7",
   "metadata": {
    "deletable": false,
    "nbgrader": {
     "cell_type": "code",
     "checksum": "2bffde5e6b6ca74882f230ce594cd07d",
     "grade": false,
     "grade_id": "task-2-11-sol",
     "locked": false,
     "schema_version": 3,
     "solution": true,
     "task": false
    },
    "tags": []
   },
   "outputs": [],
   "source": [
    "# YOUR CODE HERE\n",
    "from sklearn.model_selection import train_test_split\n",
    "X_train, X_test, y_train, y_test = train_test_split(X_encoded, y, test_size=0.25, random_state=311)"
   ]
  },
  {
   "cell_type": "code",
   "execution_count": 31,
   "id": "e0f43d87",
   "metadata": {
    "deletable": false,
    "editable": false,
    "nbgrader": {
     "cell_type": "code",
     "checksum": "03747c6e867c47fc7feb3efde578e7e7",
     "grade": true,
     "grade_id": "task-2-11-test",
     "locked": true,
     "points": 1,
     "schema_version": 3,
     "solution": false,
     "task": false
    },
    "tags": []
   },
   "outputs": [],
   "source": [
    "### BEGIN TESTS\n",
    "import hashlib\n",
    "assert hashlib.md5(str(y_train.size).encode()).hexdigest() == 'b137fdd1f79d56c7edf3365fea7520f2'\n",
    "### END TESTS"
   ]
  },
  {
   "cell_type": "markdown",
   "id": "0ece9a9f",
   "metadata": {
    "deletable": false,
    "editable": false,
    "nbgrader": {
     "cell_type": "markdown",
     "checksum": "d41a04dbb7764515edbcdab5a586785d",
     "grade": false,
     "grade_id": "task-2-12-gen-1",
     "locked": true,
     "schema_version": 3,
     "solution": false,
     "task": false
    },
    "tags": []
   },
   "source": [
    "The next cell generates `y_train_norm` and `y_test_norm` by using the standard scaler."
   ]
  },
  {
   "cell_type": "code",
   "execution_count": 32,
   "id": "4d0cdd1a",
   "metadata": {
    "deletable": false,
    "editable": false,
    "nbgrader": {
     "cell_type": "code",
     "checksum": "7d826fbb4a0f3e514f7c8b5364dac0a4",
     "grade": false,
     "grade_id": "task-2-12-gen-2",
     "locked": true,
     "schema_version": 3,
     "solution": false,
     "task": false
    },
    "tags": []
   },
   "outputs": [],
   "source": [
    "from sklearn.preprocessing import StandardScaler\n",
    "scaler = StandardScaler()\n",
    "\n",
    "y_train_norm = scaler.fit_transform(y_train.values.reshape(-1,1))\n",
    "y_test_norm = scaler.transform(y_test.values.reshape(-1,1))"
   ]
  },
  {
   "cell_type": "markdown",
   "id": "0ea59178",
   "metadata": {
    "deletable": false,
    "editable": false,
    "nbgrader": {
     "cell_type": "markdown",
     "checksum": "8c0192fc7fbf524ce0fac8af39916092",
     "grade": false,
     "grade_id": "task-2-12",
     "locked": true,
     "schema_version": 3,
     "solution": false,
     "task": false
    },
    "tags": []
   },
   "source": [
    "**Task 2.12**\n",
    "\n",
    "Complete the code below that receives the train and test feature matrices and centers and scales them with Sklearn's StandardScaler. We create a pandas dataframe called `X_train_norm` and `X_test_norm` for you. Make sure to fill the values for these dataframes. Print the first few samples of your `X_train_norm`.\n",
    "\n",
    "Note: Use dataframe.loc[:] to replace all values in dataframes."
   ]
  },
  {
   "cell_type": "code",
   "execution_count": 33,
   "id": "df318727",
   "metadata": {
    "deletable": false,
    "nbgrader": {
     "cell_type": "code",
     "checksum": "98fd08d309fdbf94377b063d72c75b40",
     "grade": false,
     "grade_id": "task-2-12-sol",
     "locked": false,
     "schema_version": 3,
     "solution": true,
     "task": false
    },
    "tags": []
   },
   "outputs": [],
   "source": [
    "X_train_norm = X_train.copy()\n",
    "X_test_norm = X_test.copy()\n",
    "# YOUR CODE HERE\n",
    "\n",
    "# Apply standardization to the feature matrices using dataframe.loc[:]\n",
    "X_train_norm = pd.DataFrame(scaler.fit_transform(X_train.loc[:]), columns=X_train.columns)\n",
    "X_test_norm = pd.DataFrame(scaler.transform(X_test.loc[:]), columns=X_test.columns)\n",
    "\n"
   ]
  },
  {
   "cell_type": "code",
   "execution_count": 34,
   "id": "1519394e",
   "metadata": {
    "deletable": false,
    "editable": false,
    "nbgrader": {
     "cell_type": "code",
     "checksum": "fa34b5b8626302949337e27eb4e70140",
     "grade": true,
     "grade_id": "task-2-12-test",
     "locked": true,
     "points": 1,
     "schema_version": 3,
     "solution": false,
     "task": false
    },
    "tags": []
   },
   "outputs": [],
   "source": [
    "### BEGIN TESTS\n",
    "import hashlib\n",
    "assert np.isclose(np.mean(X_train_norm.values), 0)\n",
    "assert np.isclose(np.mean(X_test_norm.values), -0.006976597527318279, atol=1e-03)\n",
    "### END TESTS"
   ]
  },
  {
   "cell_type": "markdown",
   "id": "cdc068e1",
   "metadata": {
    "deletable": false,
    "editable": false,
    "nbgrader": {
     "cell_type": "markdown",
     "checksum": "08728aaa859edbeeb09d94b8ed7178f7",
     "grade": false,
     "grade_id": "task-2-13",
     "locked": true,
     "schema_version": 3,
     "solution": false,
     "task": false
    },
    "tags": []
   },
   "source": [
    "## Linear regression\n",
    "\n",
    "**Task 2.13**\n",
    "\n",
    "Complete a function that creates a linear regression model. Fit it on the training data and predict the label vector for the test values. Return the predicted values!"
   ]
  },
  {
   "cell_type": "code",
   "execution_count": 35,
   "id": "db64a07b",
   "metadata": {
    "deletable": false,
    "nbgrader": {
     "cell_type": "code",
     "checksum": "4e0c8d4abce3644b74d6f5ec3e939cca",
     "grade": false,
     "grade_id": "task-2-13-sol",
     "locked": false,
     "schema_version": 3,
     "solution": true,
     "task": false
    },
    "tags": []
   },
   "outputs": [],
   "source": [
    "from sklearn.linear_model import LinearRegression\n",
    "def linear_regression(X_train_input, X_test_input, y_train_input):\n",
    "    # YOUR CODE HERE\n",
    "    model = LinearRegression()\n",
    "    model.fit(X_train_input, y_train_input)\n",
    "    result = model.predict(X_test_input)\n",
    "    return result"
   ]
  },
  {
   "cell_type": "markdown",
   "id": "bc912b99",
   "metadata": {
    "deletable": false,
    "editable": false,
    "nbgrader": {
     "cell_type": "markdown",
     "checksum": "3a20c454ddc38f25372a1cb9c1c6cd55",
     "grade": false,
     "grade_id": "task-2-14",
     "locked": true,
     "schema_version": 3,
     "solution": false,
     "task": false
    },
    "tags": []
   },
   "source": [
    "**Task 2.14**\n",
    "\n",
    "\n",
    "In the following create a new dataframe called X_train_norm_red and X_test_norm_red which includes all the features except any scores."
   ]
  },
  {
   "cell_type": "code",
   "execution_count": 36,
   "id": "9734f10f",
   "metadata": {
    "deletable": false,
    "nbgrader": {
     "cell_type": "code",
     "checksum": "3e71da7c20d06fd9fb6b327a6d19e1a9",
     "grade": false,
     "grade_id": "task-2-14-sol",
     "locked": false,
     "schema_version": 3,
     "solution": true,
     "task": false
    },
    "tags": []
   },
   "outputs": [],
   "source": [
    "# YOUR CODE HERE\n",
    "X_train_norm_red = X_train_norm.drop(['math score', 'writing score'], axis=1)\n",
    "X_test_norm_red = X_test_norm.drop(['math score', 'writing score'], axis=1)"
   ]
  },
  {
   "cell_type": "code",
   "execution_count": 37,
   "id": "a05041c1",
   "metadata": {
    "deletable": false,
    "editable": false,
    "nbgrader": {
     "cell_type": "code",
     "checksum": "4f03f51b8a644d3cf5a2c149e038850f",
     "grade": true,
     "grade_id": "task-2-14-test",
     "locked": true,
     "points": 1,
     "schema_version": 3,
     "solution": false,
     "task": false
    },
    "tags": []
   },
   "outputs": [],
   "source": [
    "### BEGIN TESTS\n",
    "import hashlib\n",
    "assert hashlib.md5(str(X_test_norm_red.size).encode()).hexdigest() == 'a07c2f3b3b907aaf8436a26c6d77f0a2'\n",
    "### END TESTS"
   ]
  },
  {
   "cell_type": "markdown",
   "id": "ed5b9e7d",
   "metadata": {
    "deletable": false,
    "editable": false,
    "nbgrader": {
     "cell_type": "markdown",
     "checksum": "1b1a733699ccb239f29a7a5bb043c592",
     "grade": false,
     "grade_id": "task-2-15",
     "locked": true,
     "schema_version": 3,
     "solution": false,
     "task": false
    },
    "tags": []
   },
   "source": [
    "**Task 2.15**\n",
    "\n",
    "Call the regression function from task 2.13 with your new variables X_train_norm_red, X_test_norm_red. Save the result in the variable __y_pred_red__."
   ]
  },
  {
   "cell_type": "code",
   "execution_count": 38,
   "id": "fc0b81c2",
   "metadata": {
    "deletable": false,
    "nbgrader": {
     "cell_type": "code",
     "checksum": "5638e2081f470ee5db95661f4eb7870a",
     "grade": false,
     "grade_id": "task-2-15-sol",
     "locked": false,
     "schema_version": 3,
     "solution": true,
     "task": false
    },
    "tags": []
   },
   "outputs": [],
   "source": [
    "# YOUR CODE HERE\n",
    "y_pred_red = linear_regression(X_train_norm_red, X_test_norm_red, y_train_norm)"
   ]
  },
  {
   "cell_type": "code",
   "execution_count": 39,
   "id": "91635728",
   "metadata": {
    "deletable": false,
    "editable": false,
    "nbgrader": {
     "cell_type": "code",
     "checksum": "c3661968598c9baf5441f1ecadacef6c",
     "grade": true,
     "grade_id": "task-2-15-test",
     "locked": true,
     "points": 2,
     "schema_version": 3,
     "solution": false,
     "task": false
    },
    "tags": []
   },
   "outputs": [],
   "source": [
    "### BEGIN TESTS\n",
    "import hashlib\n",
    "assert hashlib.md5(str(y_pred_red[105]).encode()).hexdigest() == '3ffc78a012fdb8dd088c819a321fc069'\n",
    "### END TESTS"
   ]
  },
  {
   "cell_type": "markdown",
   "id": "8a89be71",
   "metadata": {
    "deletable": false,
    "editable": false,
    "nbgrader": {
     "cell_type": "markdown",
     "checksum": "96921d58c5ac4e8d9ce51188e3ada617",
     "grade": false,
     "grade_id": "task-2-16",
     "locked": true,
     "schema_version": 3,
     "solution": false,
     "task": false
    },
    "tags": []
   },
   "source": [
    "**Task 2.16**\n",
    "\n",
    "Plot the predicted values against the actual values. Add the ideal line. Make sure your plot has a title and labels on the axes.\n",
    "\n",
    "*Don't change the first line of code and don't add any additional `plt.figure()`. Your plot must stay assigned to the variable `fig_216`. It is used to check if your plot is correct.*\n",
    "\n",
    "Hint: In this case it is simpler to use `plt.scatter` instead of `sns.scatterplot`. It is still possible to use `sns.scatterplot` but you either have to create a dataframe from the input arrays or correct the dimensions of the input arrays."
   ]
  },
  {
   "cell_type": "code",
   "execution_count": 40,
   "id": "61b92f5f-c017-4b91-aa15-6655bdd4c709",
   "metadata": {
    "deletable": false,
    "nbgrader": {
     "cell_type": "code",
     "checksum": "384c7725925fa74359c3d24eb649612e",
     "grade": false,
     "grade_id": "task-2-16-sol",
     "locked": false,
     "schema_version": 3,
     "solution": true,
     "task": false
    },
    "tags": []
   },
   "outputs": [
    {
     "data": {
      "image/png": "[encoded data removed]",
      "text/plain": [
       "<Figure size 640x480 with 1 Axes>"
      ]
     },
     "metadata": {},
     "output_type": "display_data"
    }
   ],
   "source": [
    "fig_216 = plt.figure()\n",
    "\n",
    "# YOUR CODE HERE\n",
    "plt.scatter(y_test_norm, y_pred_red, color='blue', label='Predicted')\n",
    "\n",
    "# limits \n",
    "# y_test_norm & y_pred_red both use!\n",
    "\n",
    "lower_limit = min(min(y_test_norm), min(y_pred_red))\n",
    "upper_limit = max(max(y_test_norm), max(y_pred_red))\n",
    "\n",
    "# orig\n",
    "#min_val = min(y_test_norm)\n",
    "#max_val = max(y_test_norm)\n",
    "#plt.plot([min_val, max_val], [min_val, max_val], color='red', label='Ideal')\n",
    "\n",
    "\n",
    "# add\n",
    "plt.plot([lower_limit, upper_limit], [lower_limit, upper_limit], color='red', label='Ideal')\n",
    "\n",
    "# orig\n",
    "#plt.plot([0, 100], [0, 100], color='red', label='Ideal')\n",
    "\n",
    "plt.title('Actual vs Predicted Values')\n",
    "plt.xlabel('Actual Values')\n",
    "plt.ylabel('Predicted Values')\n",
    "plt.legend()\n",
    "\n",
    "\n",
    "plt.show()"
   ]
  },
  {
   "cell_type": "code",
   "execution_count": null,
   "id": "cfc3c64e-1016-48e1-acd9-9b0a170af4a5",
   "metadata": {
    "deletable": false,
    "editable": false,
    "nbgrader": {
     "cell_type": "code",
     "checksum": "28da9dd8a2e4c408e812481af3a396b6",
     "grade": true,
     "grade_id": "task-2-16-test-1",
     "locked": true,
     "points": 1,
     "schema_version": 3,
     "solution": false,
     "task": false
    },
    "tags": []
   },
   "outputs": [],
   "source": []
  },
  {
   "cell_type": "code",
   "execution_count": null,
   "id": "d9485254",
   "metadata": {
    "editable": false,
    "nbgrader": {
     "cell_type": "code",
     "checksum": "c5a5ef701f4e4db20f4dfe404a35b9e7",
     "grade": true,
     "grade_id": "task-2-16-test-2",
     "locked": true,
     "points": 1,
     "schema_version": 3,
     "solution": false,
     "task": false
    },
    "tags": []
   },
   "outputs": [],
   "source": []
  },
  {
   "cell_type": "code",
   "execution_count": null,
   "id": "ca212af4-7af2-4813-8de0-4ba338cc538a",
   "metadata": {
    "deletable": false,
    "editable": false,
    "nbgrader": {
     "cell_type": "code",
     "checksum": "f0c3b45736501eed210e8f140bfd8aeb",
     "grade": true,
     "grade_id": "task-2-16-test-3",
     "locked": true,
     "points": 1,
     "schema_version": 3,
     "solution": false,
     "task": false
    },
    "tags": []
   },
   "outputs": [],
   "source": []
  },
  {
   "cell_type": "markdown",
   "id": "dc2b8b4f",
   "metadata": {
    "deletable": false,
    "editable": false,
    "nbgrader": {
     "cell_type": "markdown",
     "checksum": "9b10fef52cdf570e51dc8a749705911a",
     "grade": false,
     "grade_id": "task-2-17",
     "locked": true,
     "schema_version": 3,
     "solution": false,
     "task": false
    },
    "tags": []
   },
   "source": [
    "**Task 2.17**\n",
    "\n",
    "In the following cell create the dataframes* `x_train_writ` and `x_test_writ` that only include the writing score as a feature. \n",
    "\n",
    "<sub>*to be more precise: dataframes with a single column are called series in pandas<sub>"
   ]
  },
  {
   "cell_type": "code",
   "execution_count": 41,
   "id": "6187cb9a",
   "metadata": {
    "deletable": false,
    "nbgrader": {
     "cell_type": "code",
     "checksum": "e9606920962dd5e5ab943c376dc26216",
     "grade": false,
     "grade_id": "Task-2-17-sol",
     "locked": false,
     "schema_version": 3,
     "solution": true,
     "task": false
    },
    "tags": []
   },
   "outputs": [],
   "source": [
    "# YOUR CODE HERE\n",
    "x_train_writ = pd.DataFrame(X_train_norm['writing score'])\n",
    "x_test_writ = pd.DataFrame(X_test_norm['writing score'])\n",
    "\n"
   ]
  },
  {
   "cell_type": "code",
   "execution_count": 42,
   "id": "479c95bf",
   "metadata": {
    "deletable": false,
    "editable": false,
    "nbgrader": {
     "cell_type": "code",
     "checksum": "9d67472703e61c37dc555663156e6834",
     "grade": false,
     "grade_id": "task-2-17-gen",
     "locked": true,
     "schema_version": 3,
     "solution": false,
     "task": false
    },
    "tags": []
   },
   "outputs": [],
   "source": [
    "y_pred = linear_regression(x_train_writ.values.reshape(-1,1), x_test_writ.values.reshape(-1,1), y_train_norm)"
   ]
  },
  {
   "cell_type": "code",
   "execution_count": 43,
   "id": "3452f9b4",
   "metadata": {
    "deletable": false,
    "editable": false,
    "nbgrader": {
     "cell_type": "code",
     "checksum": "d0e8e7ca411b9283c896ad65766b0973",
     "grade": true,
     "grade_id": "task-2-17-test",
     "locked": true,
     "points": 1,
     "schema_version": 3,
     "solution": false,
     "task": false
    },
    "tags": []
   },
   "outputs": [],
   "source": [
    "### BEGIN TESTS\n",
    "import hashlib\n",
    "assert hashlib.md5(str(y_pred[123]).encode()).hexdigest() == '493892e9f9d3c8e6369e3df6476ed019'\n",
    "### END TESTS"
   ]
  },
  {
   "cell_type": "markdown",
   "id": "3d934ce2",
   "metadata": {
    "deletable": false,
    "editable": false,
    "nbgrader": {
     "cell_type": "markdown",
     "checksum": "11e8a65aa9e0348d3888d306338e8e6d",
     "grade": false,
     "grade_id": "task-2-18",
     "locked": true,
     "schema_version": 3,
     "solution": false,
     "task": false
    },
    "tags": []
   },
   "source": [
    "**Task 2.18**\n",
    "\n",
    "Plot the predicted values against the actual values. Add the ideal line. Make sure your plot has a title and labels on the axes.\n",
    "\n",
    "*Don't change the first line of code and don't add any additional `plt.figure()`. Your plot must stay assigned to the variable `fig_218`. It is used to check if your plot is correct.*\n",
    "\n",
    "Hint: In this case it is simpler to use `plt.scatter` instead of `sns.scatterplot`. It is still possible to use `sns.scatterplot` but you either have to create a dataframe from the input arrays or correct the dimensions of the input arrays."
   ]
  },
  {
   "cell_type": "code",
   "execution_count": 44,
   "id": "2b528ebb",
   "metadata": {
    "deletable": false,
    "nbgrader": {
     "cell_type": "code",
     "checksum": "b0c529ee0eee70cc4cc266ccae8fb95e",
     "grade": false,
     "grade_id": "task-2-18-sol",
     "locked": false,
     "schema_version": 3,
     "solution": true,
     "task": false
    },
    "tags": []
   },
   "outputs": [
    {
     "data": {
      "image/png": "[encoded data removed]",
      "text/plain": [
       "<Figure size 640x480 with 1 Axes>"
      ]
     },
     "metadata": {},
     "output_type": "display_data"
    }
   ],
   "source": [
    "fig_218 = plt.figure()\n",
    "\n",
    "# YOUR CODE HERE\n",
    "plt.scatter(x_test_writ, y_pred, color='blue', label='Predicted')\n",
    "\n",
    "# limits\n",
    "lower_limit = min(y_pred_red)\n",
    "upper_limit = max(y_pred_red)\n",
    "\n",
    "\n",
    "plt.plot([lower_limit, upper_limit], [lower_limit, upper_limit], color='red', label='Ideal')\n",
    "\n",
    "plt.title('Actual vs Predicted Values')\n",
    "plt.xlabel('Actual Values')\n",
    "plt.ylabel('Predicted Values')\n",
    "plt.legend()\n",
    "\n",
    "plt.show()"
   ]
  },
  {
   "cell_type": "code",
   "execution_count": null,
   "id": "92d4ef7d-9f2c-45df-ade7-80bc207a01a8",
   "metadata": {
    "deletable": false,
    "editable": false,
    "nbgrader": {
     "cell_type": "code",
     "checksum": "8fd31fe4b9b3d55c5751ab3b0a75d536",
     "grade": true,
     "grade_id": "task-2-18-test-1",
     "locked": true,
     "points": 1,
     "schema_version": 3,
     "solution": false,
     "task": false
    },
    "tags": []
   },
   "outputs": [],
   "source": []
  },
  {
   "cell_type": "code",
   "execution_count": null,
   "id": "aca82340-00a1-4f00-b880-b2f0364ad9e3",
   "metadata": {
    "deletable": false,
    "editable": false,
    "nbgrader": {
     "cell_type": "code",
     "checksum": "18a03930b84eb56f26a0906b7615b2ef",
     "grade": true,
     "grade_id": "task-2-18-test-2",
     "locked": true,
     "points": 1,
     "schema_version": 3,
     "solution": false,
     "task": false
    },
    "tags": []
   },
   "outputs": [],
   "source": []
  },
  {
   "cell_type": "code",
   "execution_count": null,
   "id": "f57fd804-4a30-4f76-ab1a-48a875591fe4",
   "metadata": {
    "deletable": false,
    "editable": false,
    "nbgrader": {
     "cell_type": "code",
     "checksum": "be1d964e6507aefc7c5a71d8d2ae9ca2",
     "grade": true,
     "grade_id": "task-2-18-test-3",
     "locked": true,
     "points": 1,
     "schema_version": 3,
     "solution": false,
     "task": false
    },
    "tags": []
   },
   "outputs": [],
   "source": []
  },
  {
   "cell_type": "markdown",
   "id": "e4de6855",
   "metadata": {
    "deletable": false,
    "editable": false,
    "nbgrader": {
     "cell_type": "markdown",
     "checksum": "652b6891911943ad71621fa588b6224a",
     "grade": false,
     "grade_id": "task-2-19",
     "locked": true,
     "schema_version": 3,
     "solution": false,
     "task": false
    },
    "tags": []
   },
   "source": [
    "**Task 2.19**\n",
    "\n",
    "Compare the model from tasks 2.15 and 2.16 with the one from tasks 2.17 and 2.18. Which one performs better and why?\n",
    "\n",
    "'a': The model from 2.17/2.18 performs better because feature and target variable are closely related.\n",
    "\n",
    "'b': The model from 2.17/2.18 performs better because it has fewer features.\n",
    "\n",
    "'c': The model from 2.15/2.16 performs better because it has more features.\n",
    "\n",
    "'d': The model from 2.15/2.16 performs better because scores are dropped, removing linear dependencies.\n",
    "\n",
    "*Use a variable* `x219` *and assign your answer of the question (if 'e' would be the correct answer your code should look like this:* `x219 = 'e'`*.\n",
    "There is only one correct answer.* "
   ]
  },
  {
   "cell_type": "code",
   "execution_count": 45,
   "id": "f02eba74",
   "metadata": {
    "deletable": false,
    "nbgrader": {
     "cell_type": "code",
     "checksum": "757efbd108e8a0bd4aa41036b3def0af",
     "grade": false,
     "grade_id": "task-2-19-sol",
     "locked": false,
     "schema_version": 3,
     "solution": true,
     "task": false
    },
    "tags": []
   },
   "outputs": [],
   "source": [
    "# YOUR CODE HERE\n",
    "x219 = 'a'"
   ]
  },
  {
   "cell_type": "code",
   "execution_count": null,
   "id": "41e87deb",
   "metadata": {
    "deletable": false,
    "editable": false,
    "nbgrader": {
     "cell_type": "code",
     "checksum": "ec296cb1ece0850e9a08646fef85b688",
     "grade": true,
     "grade_id": "task-2-19-test",
     "locked": true,
     "points": 1,
     "schema_version": 3,
     "solution": false,
     "task": false
    },
    "tags": []
   },
   "outputs": [],
   "source": []
  },
  {
   "cell_type": "markdown",
   "id": "a50a794a",
   "metadata": {
    "deletable": false,
    "editable": false,
    "nbgrader": {
     "cell_type": "markdown",
     "checksum": "f4910d917492f6a4d4f4c4f44becc4dc",
     "grade": false,
     "grade_id": "task-2-20",
     "locked": true,
     "schema_version": 3,
     "solution": false,
     "task": false
    },
    "tags": []
   },
   "source": [
    "## SVD\n",
    "\n",
    "**Task 2.20**\n",
    "\n",
    "Use a singular value decomposition to calculate U, s and VT from `X_train_norm`."
   ]
  },
  {
   "cell_type": "code",
   "execution_count": 46,
   "id": "71c0ef16",
   "metadata": {
    "deletable": false,
    "nbgrader": {
     "cell_type": "code",
     "checksum": "c55b1fba703ef6b3614488540ce535d7",
     "grade": false,
     "grade_id": "task-2-20-sol",
     "locked": false,
     "schema_version": 3,
     "solution": true,
     "task": false
    },
    "tags": []
   },
   "outputs": [],
   "source": [
    "# YOUR CODE HERE\n",
    "U, s, VT = np.linalg.svd(X_train_norm)"
   ]
  },
  {
   "cell_type": "code",
   "execution_count": 47,
   "id": "81aac50b",
   "metadata": {
    "deletable": false,
    "editable": false,
    "nbgrader": {
     "cell_type": "code",
     "checksum": "0fe805af0e03d35ccdc6e021b10445f5",
     "grade": true,
     "grade_id": "task-2-20-test",
     "locked": true,
     "points": 1,
     "schema_version": 3,
     "solution": false,
     "task": false
    },
    "tags": []
   },
   "outputs": [],
   "source": [
    "### BEGIN TESTS\n",
    "import hashlib\n",
    "assert hashlib.md5(str(s[5]).encode()).hexdigest() == '80e33c58f819b5dc47a0b61fd425b16e'\n",
    "### END TESTS"
   ]
  },
  {
   "cell_type": "markdown",
   "id": "02c030dc",
   "metadata": {
    "deletable": false,
    "editable": false,
    "nbgrader": {
     "cell_type": "markdown",
     "checksum": "c8216bdad52e30a89c8abefcf2ed3018",
     "grade": false,
     "grade_id": "task-2-21",
     "locked": true,
     "schema_version": 3,
     "solution": false,
     "task": false
    },
    "tags": []
   },
   "source": [
    "**Task 2.21**\n",
    "\n",
    "Plot the magnitude of the singular values you calculated in the previous step. Make sure your plot has a title and labels on the axes.\n",
    "\n",
    "*Don't change the first line of code and don't add any additional `plt.figure()`. Your plot must stay assigned to the variable `fig_221`. It is used to check if your plot is correct.*"
   ]
  },
  {
   "cell_type": "code",
   "execution_count": 48,
   "id": "b763ca20",
   "metadata": {
    "deletable": false,
    "nbgrader": {
     "cell_type": "code",
     "checksum": "feb6d5f1e26298f05e67efbbac986995",
     "grade": false,
     "grade_id": "task-2-21-sol",
     "locked": false,
     "schema_version": 3,
     "solution": true,
     "task": false
    },
    "tags": []
   },
   "outputs": [
    {
     "data": {
      "image/png": "[encoded data removed]",
      "text/plain": [
       "<Figure size 640x480 with 1 Axes>"
      ]
     },
     "metadata": {},
     "output_type": "display_data"
    }
   ],
   "source": [
    "fig_221 = plt.figure()\n",
    "\n",
    "# YOUR CODE HERE\n",
    "plt.plot(range(1, len(s) + 1), s, marker='o')\n",
    "plt.xlabel('Singular Value Index')\n",
    "plt.ylabel('Magnitude')\n",
    "plt.title('Magnitude of Singular Values')\n",
    "\n",
    "plt.show()"
   ]
  },
  {
   "cell_type": "code",
   "execution_count": null,
   "id": "7ae32bc0-83de-48c6-ae15-ac93c7e86e17",
   "metadata": {
    "deletable": false,
    "editable": false,
    "nbgrader": {
     "cell_type": "code",
     "checksum": "2d58be48bce4bd6b9a8a11ed6e80f613",
     "grade": true,
     "grade_id": "task-2-21-test-1",
     "locked": true,
     "points": 1,
     "schema_version": 3,
     "solution": false,
     "task": false
    },
    "tags": []
   },
   "outputs": [],
   "source": []
  },
  {
   "cell_type": "code",
   "execution_count": null,
   "id": "52431d92-fa90-49cf-994e-54dd1c6b8683",
   "metadata": {
    "deletable": false,
    "editable": false,
    "nbgrader": {
     "cell_type": "code",
     "checksum": "8d029464fd756b9b3084cb442e58f168",
     "grade": true,
     "grade_id": "task-2-21-test-2",
     "locked": true,
     "points": 1,
     "schema_version": 3,
     "solution": false,
     "task": false
    },
    "tags": []
   },
   "outputs": [],
   "source": []
  },
  {
   "cell_type": "markdown",
   "id": "517f9915",
   "metadata": {
    "deletable": false,
    "editable": false,
    "nbgrader": {
     "cell_type": "markdown",
     "checksum": "78b436db0af5fcc2c8f11cf43b5c5051",
     "grade": false,
     "grade_id": "task-2-22",
     "locked": true,
     "schema_version": 3,
     "solution": false,
     "task": false
    },
    "tags": []
   },
   "source": [
    "**Task 2.22**\n",
    "\n",
    "Plot the percentage of explained variance (cumulative singular values) by the number of singular values. Make sure your plot has a title and labels on the axes.\n",
    "\n",
    "*Don't change the first line of code and don't add any additional `plt.figure()`. Your plot must stay assigned to the variable `fig_222`. It is used to check if your plot is correct.*"
   ]
  },
  {
   "cell_type": "code",
   "execution_count": 49,
   "id": "66d264d7",
   "metadata": {
    "deletable": false,
    "nbgrader": {
     "cell_type": "code",
     "checksum": "6daa1715284311bba0aad4f678554a1e",
     "grade": false,
     "grade_id": "task-2-22-sol",
     "locked": false,
     "schema_version": 3,
     "solution": true,
     "task": false
    },
    "tags": []
   },
   "outputs": [
    {
     "data": {
      "image/png": "[encoded data removed]",
      "text/plain": [
       "<Figure size 640x480 with 1 Axes>"
      ]
     },
     "metadata": {},
     "output_type": "display_data"
    }
   ],
   "source": [
    "fig_222 = plt.figure()\n",
    "\n",
    "# YOUR CODE HERE\n",
    "explained_variance = np.cumsum(s**2) / np.sum(s**2)\n",
    "plt.plot(range(1, len(explained_variance) + 1), explained_variance, marker='o', color='blue')\n",
    "plt.title('Percentage of Explained Variance')\n",
    "plt.xlabel('Number of Singular Values')\n",
    "plt.ylabel('Percentage of Explained Variance')\n",
    "plt.xticks(range(1, len(explained_variance) + 1))\n",
    "\n",
    "plt.show()"
   ]
  },
  {
   "cell_type": "code",
   "execution_count": null,
   "id": "c6566e8a-4bfb-400e-8aa0-94e8cd642568",
   "metadata": {
    "deletable": false,
    "editable": false,
    "nbgrader": {
     "cell_type": "code",
     "checksum": "33f320256fa3d7e48ac8b768bfd1404e",
     "grade": true,
     "grade_id": "task-2-22-test-1",
     "locked": true,
     "points": 1,
     "schema_version": 3,
     "solution": false,
     "task": false
    },
    "tags": []
   },
   "outputs": [],
   "source": []
  },
  {
   "cell_type": "code",
   "execution_count": null,
   "id": "4e2ce3da-7403-4540-8c13-6d104eda2ff3",
   "metadata": {
    "deletable": false,
    "editable": false,
    "nbgrader": {
     "cell_type": "code",
     "checksum": "e101ca5f72bc3147ad1ec5f613996546",
     "grade": true,
     "grade_id": "task-2-22-test-2",
     "locked": true,
     "points": 1,
     "schema_version": 3,
     "solution": false,
     "task": false
    },
    "tags": []
   },
   "outputs": [],
   "source": []
  }
 ],
 "metadata": {
  "kernelspec": {
   "display_name": "Python 3 (ipykernel)",
   "language": "python",
   "name": "python3"
  },
  "language_info": {
   "codemirror_mode": {
    "name": "ipython",
    "version": 3
   },
   "file_extension": ".py",
   "mimetype": "text/x-python",
   "name": "python",
   "nbconvert_exporter": "python",
   "pygments_lexer": "ipython3",
   "version": "3.10.11"
  }
 },
 "nbformat": 4,
 "nbformat_minor": 5
}
