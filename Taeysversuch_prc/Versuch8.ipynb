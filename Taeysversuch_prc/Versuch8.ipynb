{
 "cells": [
  {
   "cell_type": "code",
   "execution_count": 1,
   "id": "baf2ad93",
   "metadata": {},
   "outputs": [],
   "source": [
    "import pandas as pd\n",
    "import numpy as np\n",
    "import matplotlib.pyplot as plt\n",
    "import seaborn as sns\n",
    "\n",
    "from sklearn.preprocessing import LabelEncoder\n",
    "from sklearn.model_selection import train_test_split, learning_curve\n",
    "from sklearn.preprocessing import StandardScaler\n",
    "from sklearn.neighbors import KNeighborsClassifier\n",
    "from sklearn.neural_network import MLPClassifier\n",
    "from sklearn.metrics import accuracy_score\n",
    "from sklearn.metrics import accuracy_score, confusion_matrix, ConfusionMatrixDisplay, plot_confusion_matrix\n",
    "from sklearn.svm import SVC"
   ]
  },
  {
   "cell_type": "code",
   "execution_count": null,
   "id": "23137eb9",
   "metadata": {},
   "outputs": [],
   "source": []
  },
  {
   "cell_type": "markdown",
   "id": "648d069b",
   "metadata": {},
   "source": [
    "# PREPROCESSING "
   ]
  },
  {
   "cell_type": "code",
   "execution_count": 2,
   "id": "266c6d11",
   "metadata": {
    "scrolled": false
   },
   "outputs": [
    {
     "name": "stdout",
     "output_type": "stream",
     "text": [
      "<class 'pandas.core.frame.DataFrame'>\n",
      "RangeIndex: 402087 entries, 0 to 402086\n",
      "Data columns (total 14 columns):\n",
      " #   Column              Non-Null Count   Dtype  \n",
      "---  ------              --------------   -----  \n",
      " 0   state               402087 non-null  object \n",
      " 1   stop_date           402087 non-null  object \n",
      " 2   driver_gender       402087 non-null  object \n",
      " 3   driver_age          401996 non-null  float64\n",
      " 4   driver_race_raw     402087 non-null  object \n",
      " 5   driver_race         402087 non-null  object \n",
      " 6   violation           402087 non-null  object \n",
      " 7   search_type         402087 non-null  object \n",
      " 8   contraband_found    402087 non-null  bool   \n",
      " 9   stop_outcome        402087 non-null  object \n",
      " 10  search_basis        402087 non-null  object \n",
      " 11  officer_id          402087 non-null  int64  \n",
      " 12  drugs_related_stop  4379 non-null    object \n",
      " 13  district            402049 non-null  object \n",
      "dtypes: bool(1), float64(1), int64(1), object(11)\n",
      "memory usage: 40.3+ MB\n"
     ]
    },
    {
     "data": {
      "text/plain": [
       "state                      0\n",
       "stop_date                  0\n",
       "driver_gender              0\n",
       "driver_age                91\n",
       "driver_race_raw            0\n",
       "driver_race                0\n",
       "violation                  0\n",
       "search_type                0\n",
       "contraband_found           0\n",
       "stop_outcome               0\n",
       "search_basis               0\n",
       "officer_id                 0\n",
       "drugs_related_stop    397708\n",
       "district                  38\n",
       "dtype: int64"
      ]
     },
     "execution_count": 2,
     "metadata": {},
     "output_type": "execute_result"
    }
   ],
   "source": [
    "#Read data\n",
    "df = pd.read_csv(\"NC_policing.csv\")\n",
    "df.info()\n",
    "df.head()\n",
    "df.isna().sum()"
   ]
  },
  {
   "cell_type": "code",
   "execution_count": null,
   "id": "f6a2dd69",
   "metadata": {},
   "outputs": [],
   "source": [
    "for column in df.columns:\n",
    "    print(f\"{column}: {df[column].nunique()} unique values\")"
   ]
  },
  {
   "cell_type": "code",
   "execution_count": null,
   "id": "2b608db1",
   "metadata": {
    "scrolled": false
   },
   "outputs": [],
   "source": [
    "#Check the unique values of all data.\n",
    "for col in df:\n",
    "    print(df[col].unique())"
   ]
  },
  {
   "cell_type": "markdown",
   "id": "7004757e",
   "metadata": {},
   "source": [
    "## Missing Values"
   ]
  },
  {
   "cell_type": "code",
   "execution_count": null,
   "id": "85593315",
   "metadata": {
    "scrolled": true
   },
   "outputs": [],
   "source": [
    "#Fill missing values in 'drivers_age' with mean\n",
    "mean_age = df['driver_age'].mean()\n",
    "print(\"Average age is :\", mean_age)"
   ]
  },
  {
   "cell_type": "code",
   "execution_count": null,
   "id": "224b98ea",
   "metadata": {
    "scrolled": false
   },
   "outputs": [],
   "source": [
    "#All missing values in 'driver_age' fills with average mean\n",
    "#It was rounded at 소수첫째자리 반올림\n",
    "df['driver_age'] = df['driver_age'].fillna(int(np.rint(mean_age)))\n",
    "\n",
    "#Fill missing values in 'drugs_related_stop' feature with false values\n",
    "#because 차 수색해서 차에서 마약이 나올 확률이 안나올 확률보다 낮다\n",
    "df['drugs_related_stop'] = df['drugs_related_stop'].fillna(False)\n",
    "\n",
    "# only 38 data missed, = keinen Einfluss auf dataset\n",
    "df.dropna(axis=0, inplace=True)\n",
    "\n",
    "#Check ob tere are antother missing values\n",
    "df.isna().sum()"
   ]
  },
  {
   "cell_type": "markdown",
   "id": "2edabaaa",
   "metadata": {},
   "source": [
    "## Encoding\n",
    "\n",
    "we cannot work with object Dtype. So we need to change the Dtype as numeric values.\n"
   ]
  },
  {
   "cell_type": "code",
   "execution_count": null,
   "id": "f7a639f0",
   "metadata": {
    "scrolled": false
   },
   "outputs": [],
   "source": [
    "#Copy dataset to make a encoded data.\n",
    "df_encoded = df.copy()\n",
    "\n",
    "#Remove unnecessary columns 사용되지 않을 컬럼, y variable 삭제\n",
    "df_encoded = df_encoded.drop(['state','driver_race_raw','district','officer_id'], axis=1)\n",
    "# driver_race_raw :'driver_race'랑 비슷한 데이터셋\n",
    "# state : every search happend in NC state\n",
    "# district and officer_id : will not be used for ML\n",
    "\n",
    "\n",
    "\n",
    "# Label encoding \n",
    "encoder = LabelEncoder()\n",
    "for col in ['contraband_found','driver_gender', 'drugs_related_stop','stop_outcome','violation','search_basis']:\n",
    "    df_encoded.loc[:,col] = encoder.fit_transform(df_encoded.loc[:,col])"
   ]
  },
  {
   "cell_type": "code",
   "execution_count": null,
   "id": "cb823026",
   "metadata": {
    "scrolled": true
   },
   "outputs": [],
   "source": [
    "df_encoded.head()"
   ]
  },
  {
   "cell_type": "markdown",
   "id": "3062faed",
   "metadata": {},
   "source": [
    "#Classify the reason of search \n",
    "search_reasons = search_reasons = [\n",
    "    'No Search Conducted', 'Observation Suspected Contraband', \n",
    "    'Erratic Suspicious Behaviour', 'Other Official Info', \n",
    "    'Suspicious Movement', 'Witness Observation', 'Informant Tip'\n",
    "]\n",
    "# Initialize binary columns for each reason in df_encoded with default value 0\n",
    "for reason in search_reasons:\n",
    "    df_encoded[f'search_basis_{reason}'] = 0\n",
    "\n",
    "# Update these columns in df_encoded based on the 'search_basis' column\n",
    "for reason in search_reasons:\n",
    "    df_encoded.loc[df_encoded['search_basis'].str.contains(reason), f'search_basis_{reason}'] = 1\n",
    "\n",
    "# Drop the original 'search_basis' column from df_encoded\n",
    "df_encoded = df_encoded.drop('search_basis', axis=1)\n"
   ]
  },
  {
   "cell_type": "markdown",
   "id": "709754b6",
   "metadata": {},
   "source": [
    "#Classify district\n",
    "dist = ['A', 'B','C','D','E','F']\n",
    "\n",
    "for district in dist:\n",
    "    df_encoded[f'district_{district}'] = 0\n",
    "\n",
    "for district in dist:\n",
    "    df_encoded.loc[df_encoded['district'].str.contains(district), f'district_{district}'] = 1\n",
    "\n",
    "df_encoded = df_encoded.drop('district', axis=1)"
   ]
  },
  {
   "cell_type": "code",
   "execution_count": null,
   "id": "f3fe3823",
   "metadata": {},
   "outputs": [],
   "source": [
    "# Convert 'stop_date' to datetime format\n",
    "df_encoded['stop_date'] = pd.to_datetime(df_encoded['stop_date'])\n",
    "\n",
    "# Extract year, month, day, and day of the week\n",
    "#df_encoded['year'] = df_encoded['stop_date'].dt.year\n",
    "#df_encoded['month'] = df_encoded['stop_date'].dt.month\n",
    "#df_encoded['day'] = df_encoded['stop_date'].dt.day\n",
    "df_encoded['day_of_week'] = df_encoded['stop_date'].dt.dayofweek  # Monday=0, Sunday=6\n",
    "\n",
    "# Drop the original 'stop_date' column \n",
    "df_encoded = df_encoded.drop('stop_date', axis=1)\n",
    "\n",
    "df_encoded.head()"
   ]
  },
  {
   "cell_type": "code",
   "execution_count": null,
   "id": "6f3e4140",
   "metadata": {},
   "outputs": [],
   "source": [
    "# One-hot encoding\n",
    "# List of columns to be one-hot encoded           'violation'\n",
    "columns_to_encode = ['search_type', 'driver_race']  # Add more columns as needed\n",
    "\n",
    "for col in columns_to_encode:\n",
    "    if col in df_encoded.columns:\n",
    "        # Generate one-hot encoded columns\n",
    "        dummies = pd.get_dummies(df_encoded[col], prefix=col)\n",
    "        \n",
    "        # Concatenate the one-hot encoded columns to df_encoded\n",
    "        df_encoded = pd.concat([df_encoded, dummies], axis=1)\n",
    "        \n",
    "        # Drop the original column\n",
    "        df_encoded = df_encoded.drop(col, axis=1)\n",
    "\n"
   ]
  },
  {
   "cell_type": "code",
   "execution_count": null,
   "id": "8aeae2a9",
   "metadata": {
    "scrolled": false
   },
   "outputs": [],
   "source": [
    "#각 컬럼이 어떤 type 인지 확인\n",
    "#df.info()\n",
    "\n",
    "#Check the unique values of all data.\n",
    "for col in df_encoded:\n",
    "    print(df_encoded[col].unique())"
   ]
  },
  {
   "cell_type": "code",
   "execution_count": null,
   "id": "e191c34b",
   "metadata": {},
   "outputs": [],
   "source": [
    "df_encoded.head()"
   ]
  },
  {
   "cell_type": "code",
   "execution_count": null,
   "id": "ca2b6432",
   "metadata": {
    "scrolled": true
   },
   "outputs": [],
   "source": []
  },
  {
   "cell_type": "code",
   "execution_count": null,
   "id": "91414332",
   "metadata": {
    "scrolled": false
   },
   "outputs": [],
   "source": [
    "df_encoded.describe().T"
   ]
  },
  {
   "cell_type": "markdown",
   "id": "1d61352e",
   "metadata": {},
   "source": [
    "### Generate two binary classifiers using two different methods of your liking and compare their performances against a dummy classifier, which always predicts “not arrested”."
   ]
  },
  {
   "cell_type": "code",
   "execution_count": null,
   "id": "453f6616",
   "metadata": {},
   "outputs": [],
   "source": [
    "#Target variable y\n",
    "y = df_encoded[\"stop_outcome\"]\n",
    "y_encoded = encoder.fit_transform(y)\n"
   ]
  },
  {
   "cell_type": "code",
   "execution_count": null,
   "id": "acdc59fe",
   "metadata": {},
   "outputs": [],
   "source": [
    "# Splitting Data \n",
    "X = df_encoded.drop('stop_outcome', axis=1)\n",
    "X = X.astype(np.float32) \n",
    "\n",
    "y = (df_encoded['stop_outcome'] == \"Arrested\").astype(int)\n",
    "X_train, X_test, y_train, y_test = train_test_split(X, y, test_size=0.3, random_state=5)\n",
    "#X_train, X_test, y_train, y_test = train_test_split(X, y, test_size=0.3, stratify=y)"
   ]
  },
  {
   "cell_type": "code",
   "execution_count": null,
   "id": "0940d2ac",
   "metadata": {},
   "outputs": [],
   "source": [
    "X"
   ]
  },
  {
   "cell_type": "code",
   "execution_count": null,
   "id": "437d5bba",
   "metadata": {},
   "outputs": [],
   "source": [
    "print(X_train.shape)\n",
    "print(X_test.shape)\n",
    "print(X_train.shape)"
   ]
  },
  {
   "cell_type": "markdown",
   "id": "aad3a4ab",
   "metadata": {},
   "source": [
    "### only standardization\n",
    "### only normalization\n",
    "### std and norm ?\n"
   ]
  },
  {
   "cell_type": "code",
   "execution_count": null,
   "id": "cdbbc3d0",
   "metadata": {},
   "outputs": [],
   "source": [
    "from sklearn.preprocessing import StandardScaler, MinMaxScaler\n",
    "\n",
    "col_names = list(X_train.columns)\n",
    "# Standardization\n",
    "standard_scaler = StandardScaler()\n",
    "X_train_standardized = standard_scaler.fit_transform(X_train)\n",
    "X_test_standardized = standard_scaler.transform(X_test)\n",
    "\n",
    "# Normalization\n",
    "minmax_scaler = MinMaxScaler()\n",
    "X_train_normalized = minmax_scaler.fit_transform(X_train_standardized)\n",
    "X_test_normalized = minmax_scaler.transform(X_test_standardized)\n"
   ]
  },
  {
   "cell_type": "code",
   "execution_count": null,
   "id": "b9d488ff",
   "metadata": {},
   "outputs": [],
   "source": [
    "# convert to DataFrame\n",
    "# Convert the standardized NumPy array back to a DataFrame\n",
    "X_train_standardized_df = pd.DataFrame(X_train_standardized, columns=X_train.columns)\n",
    "\n",
    "# Display the top rows of the standardized DataFrame\n",
    "print(X_train_standardized_df.head())\n"
   ]
  },
  {
   "cell_type": "code",
   "execution_count": null,
   "id": "482cdd24",
   "metadata": {},
   "outputs": [],
   "source": []
  },
  {
   "cell_type": "code",
   "execution_count": null,
   "id": "26b61cf8",
   "metadata": {
    "scrolled": false
   },
   "outputs": [],
   "source": [
    "#creating correlation matrix for feature selection\n",
    "corr = X.corr()\n",
    "plt.figure(figsize=(10, 10))\n",
    "sns.heatmap(corr, linewidths=0.1, square=True, annot=True, cmap='YlGnBu',\n",
    "            linecolor=\"white\", fmt='.2f')\n",
    "plt.title('Correlation between features')\n",
    "plt.show()"
   ]
  },
  {
   "cell_type": "code",
   "execution_count": null,
   "id": "c4f6c0fb",
   "metadata": {},
   "outputs": [],
   "source": []
  },
  {
   "cell_type": "code",
   "execution_count": null,
   "id": "bc9a16f3",
   "metadata": {},
   "outputs": [],
   "source": []
  },
  {
   "cell_type": "code",
   "execution_count": null,
   "id": "e0b2748b",
   "metadata": {},
   "outputs": [],
   "source": []
  },
  {
   "cell_type": "code",
   "execution_count": null,
   "id": "9cff885c",
   "metadata": {},
   "outputs": [],
   "source": []
  },
  {
   "cell_type": "code",
   "execution_count": null,
   "id": "474fea32",
   "metadata": {},
   "outputs": [],
   "source": []
  },
  {
   "cell_type": "code",
   "execution_count": null,
   "id": "6269cd81",
   "metadata": {},
   "outputs": [],
   "source": []
  },
  {
   "cell_type": "code",
   "execution_count": null,
   "id": "21a4fcf8",
   "metadata": {},
   "outputs": [],
   "source": []
  },
  {
   "cell_type": "code",
   "execution_count": null,
   "id": "e2047a14",
   "metadata": {},
   "outputs": [],
   "source": []
  },
  {
   "cell_type": "code",
   "execution_count": null,
   "id": "fd0135ee",
   "metadata": {},
   "outputs": [],
   "source": []
  },
  {
   "cell_type": "code",
   "execution_count": null,
   "id": "a816a24c",
   "metadata": {},
   "outputs": [],
   "source": []
  }
 ],
 "metadata": {
  "kernelspec": {
   "display_name": "Python 3 (ipykernel)",
   "language": "python",
   "name": "python3"
  },
  "language_info": {
   "codemirror_mode": {
    "name": "ipython",
    "version": 3
   },
   "file_extension": ".py",
   "mimetype": "text/x-python",
   "name": "python",
   "nbconvert_exporter": "python",
   "pygments_lexer": "ipython3",
   "version": "3.10.9"
  }
 },
 "nbformat": 4,
 "nbformat_minor": 5
}
