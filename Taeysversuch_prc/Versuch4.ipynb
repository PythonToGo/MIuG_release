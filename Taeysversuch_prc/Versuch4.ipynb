{
 "cells": [
  {
   "cell_type": "code",
   "execution_count": 1,
   "id": "7cfcb394",
   "metadata": {},
   "outputs": [],
   "source": [
    "from sklearn.preprocessing import LabelEncoder, OneHotEncoder, StandardScaler\n",
    "from sklearn.model_selection import train_test_split\n",
    "from sklearn.linear_model import LogisticRegression\n",
    "from sklearn.svm import SVC\n",
    "\n",
    "import pandas as pd"
   ]
  },
  {
   "cell_type": "code",
   "execution_count": 2,
   "id": "26913082",
   "metadata": {},
   "outputs": [],
   "source": [
    "df = pd.read_csv('NC_policing.csv')"
   ]
  },
  {
   "cell_type": "code",
   "execution_count": 3,
   "id": "cd5bbc4d",
   "metadata": {},
   "outputs": [],
   "source": [
    "# 1. Handling NaN values:\n",
    "\n",
    "# For `driver_age`\n",
    "df['driver_age'].fillna(df['driver_age'].median(), inplace=True)\n",
    "\n",
    "# For `drugs_related_stop`\n",
    "df['drugs_related_stop'].fillna('Unknown', inplace=True)\n",
    "\n",
    "# For `district`\n",
    "df['district'].fillna(df['district'].mode()[0], inplace=True)\n"
   ]
  },
  {
   "cell_type": "code",
   "execution_count": 4,
   "id": "9ed27850",
   "metadata": {},
   "outputs": [],
   "source": [
    "# 2. Feature Encoding:\n",
    "\n",
    "# Binary columns\n",
    "label_encoders = {}\n",
    "for col in ['driver_gender', 'contraband_found']:\n",
    "    le = LabelEncoder()\n",
    "    df[col] = le.fit_transform(df[col])\n",
    "    label_encoders[col] = le\n",
    "\n",
    "# Multi-class columns\n",
    "df = pd.get_dummies(df, columns=['state', 'driver_race_raw', 'driver_race', 'violation', 'search_type', 'search_basis', 'district', 'drugs_related_stop'])\n"
   ]
  },
  {
   "cell_type": "code",
   "execution_count": null,
   "id": "8e891573",
   "metadata": {},
   "outputs": [],
   "source": [
    "# 3. Standardization/Normalization:\n",
    "\n",
    "scaler = StandardScaler()\n",
    "df[['driver_age', 'officer_id']] = scaler.fit_transform(df[['driver_age', 'officer_id']])\n"
   ]
  },
  {
   "cell_type": "code",
   "execution_count": null,
   "id": "cf12a1ee",
   "metadata": {},
   "outputs": [],
   "source": [
    "# 4. Splitting Data:\n",
    "\n",
    "X = df.drop(columns=['stop_outcome', 'stop_date'])  # I assume you don't want to use the 'stop_date' as a feature\n",
    "y = df['stop_outcome']\n",
    "\n",
    "X_train, X_test, y_train, y_test = train_test_split(X, y, test_size=0.2, random_state=42)\n"
   ]
  },
  {
   "cell_type": "code",
   "execution_count": null,
   "id": "445045f8",
   "metadata": {},
   "outputs": [],
   "source": [
    "# SVM (Remember this may take a long time for a big dataset)\n",
    "svm = SVC()\n",
    "svm.fit(X_train, y_train)\n",
    "\n",
    "# You can now predict and evaluate your models using X_test and y_test"
   ]
  },
  {
   "cell_type": "code",
   "execution_count": null,
   "id": "6c812aba",
   "metadata": {},
   "outputs": [],
   "source": []
  },
  {
   "cell_type": "code",
   "execution_count": null,
   "id": "0044bb15",
   "metadata": {},
   "outputs": [],
   "source": []
  },
  {
   "cell_type": "code",
   "execution_count": null,
   "id": "bf8d11a3",
   "metadata": {},
   "outputs": [],
   "source": []
  },
  {
   "cell_type": "code",
   "execution_count": null,
   "id": "8efc155e",
   "metadata": {},
   "outputs": [],
   "source": []
  },
  {
   "cell_type": "code",
   "execution_count": null,
   "id": "2b55dd1f",
   "metadata": {},
   "outputs": [],
   "source": []
  },
  {
   "cell_type": "code",
   "execution_count": null,
   "id": "c1066050",
   "metadata": {},
   "outputs": [],
   "source": []
  },
  {
   "cell_type": "code",
   "execution_count": null,
   "id": "7ca2775c",
   "metadata": {},
   "outputs": [],
   "source": []
  },
  {
   "cell_type": "code",
   "execution_count": null,
   "id": "dace3ac7",
   "metadata": {},
   "outputs": [],
   "source": []
  },
  {
   "cell_type": "code",
   "execution_count": null,
   "id": "7b9c786d",
   "metadata": {},
   "outputs": [],
   "source": []
  },
  {
   "cell_type": "code",
   "execution_count": null,
   "id": "3abbffdc",
   "metadata": {},
   "outputs": [],
   "source": []
  },
  {
   "cell_type": "code",
   "execution_count": null,
   "id": "618c8b4a",
   "metadata": {},
   "outputs": [],
   "source": []
  },
  {
   "cell_type": "code",
   "execution_count": null,
   "id": "df23e549",
   "metadata": {},
   "outputs": [],
   "source": []
  }
 ],
 "metadata": {
  "kernelspec": {
   "display_name": "Python 3 (ipykernel)",
   "language": "python",
   "name": "python3"
  },
  "language_info": {
   "codemirror_mode": {
    "name": "ipython",
    "version": 3
   },
   "file_extension": ".py",
   "mimetype": "text/x-python",
   "name": "python",
   "nbconvert_exporter": "python",
   "pygments_lexer": "ipython3",
   "version": "3.10.9"
  }
 },
 "nbformat": 4,
 "nbformat_minor": 5
}
