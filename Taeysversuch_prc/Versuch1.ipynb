{
 "cells": [
  {
   "cell_type": "markdown",
   "id": "0d8a76bc",
   "metadata": {},
   "source": [
    "# Maschinelle Intelligenz und Gesellschaft 2023\n",
    "Name:\n",
    "누가 어떤 역할 했는지....\n"
   ]
  },
  {
   "cell_type": "markdown",
   "id": "813064e0",
   "metadata": {},
   "source": [
    "# FYI !!!\n",
    "마크다운에서 코드! 쓰려면 맥북 cmd + space bar 누르고 terminal 검색해서 원화를 백쿼트(```code```)로 바꿔야함!\n",
    "\n",
    "독일 맥북은 the top-right corner of the keyboard while holding down shift\n",
    "\n",
    "\n",
    "terminal 에 아래 코드 긁어서 적용 후 reboot하면 원화 누를때마다 백쿼트 누를수 있음! \n",
    "\n",
    "{\n",
    "    \"₩\" = (\"insertText:\", \"`\");\n",
    "}"
   ]
  },
  {
   "cell_type": "code",
   "execution_count": 15,
   "id": "cbc95553",
   "metadata": {},
   "outputs": [],
   "source": [
    "import pandas as pd\n",
    "from sklearn.preprocessing import LabelEncoder, StandardScaler\n",
    "from sklearn.model_selection import train_test_split\n",
    "from sklearn.metrics import classification_report\n",
    "from sklearn.dummy import DummyClassifier\n",
    "from sklearn.svm import SVC\n",
    "from sklearn.linear_model import LogisticRegression"
   ]
  },
  {
   "cell_type": "markdown",
   "id": "0f06d247",
   "metadata": {},
   "source": [
    "## Preprocessing"
   ]
  },
  {
   "cell_type": "code",
   "execution_count": 16,
   "id": "a2787e1e",
   "metadata": {
    "scrolled": false
   },
   "outputs": [
    {
     "name": "stdout",
     "output_type": "stream",
     "text": [
      "state                  object\n",
      "stop_date              object\n",
      "driver_gender          object\n",
      "driver_age            float64\n",
      "driver_race_raw        object\n",
      "driver_race            object\n",
      "violation              object\n",
      "search_type            object\n",
      "contraband_found         bool\n",
      "stop_outcome           object\n",
      "search_basis           object\n",
      "officer_id              int64\n",
      "drugs_related_stop     object\n",
      "district               object\n",
      "dtype: object\n",
      "state                      0\n",
      "stop_date                  0\n",
      "driver_gender              0\n",
      "driver_age                91\n",
      "driver_race_raw            0\n",
      "driver_race                0\n",
      "violation                  0\n",
      "search_type                0\n",
      "contraband_found           0\n",
      "stop_outcome               0\n",
      "search_basis               0\n",
      "officer_id                 0\n",
      "drugs_related_stop    397708\n",
      "district                  38\n",
      "dtype: int64\n"
     ]
    }
   ],
   "source": [
    "df = pd.read_csv('NC_policing.csv')\n",
    "\n",
    "print(df.dtypes)\n",
    "print(df.isna().sum())  # check for missing values"
   ]
  },
  {
   "cell_type": "code",
   "execution_count": 17,
   "id": "6bdb32ab",
   "metadata": {
    "scrolled": true
   },
   "outputs": [
    {
     "name": "stdout",
     "output_type": "stream",
     "text": [
      "<class 'pandas.core.frame.DataFrame'>\n",
      "RangeIndex: 402087 entries, 0 to 402086\n",
      "Data columns (total 14 columns):\n",
      " #   Column              Non-Null Count   Dtype  \n",
      "---  ------              --------------   -----  \n",
      " 0   state               402087 non-null  object \n",
      " 1   stop_date           402087 non-null  object \n",
      " 2   driver_gender       402087 non-null  object \n",
      " 3   driver_age          401996 non-null  float64\n",
      " 4   driver_race_raw     402087 non-null  object \n",
      " 5   driver_race         402087 non-null  object \n",
      " 6   violation           402087 non-null  object \n",
      " 7   search_type         402087 non-null  object \n",
      " 8   contraband_found    402087 non-null  bool   \n",
      " 9   stop_outcome        402087 non-null  object \n",
      " 10  search_basis        402087 non-null  object \n",
      " 11  officer_id          402087 non-null  int64  \n",
      " 12  drugs_related_stop  4379 non-null    object \n",
      " 13  district            402049 non-null  object \n",
      "dtypes: bool(1), float64(1), int64(1), object(11)\n",
      "memory usage: 40.3+ MB\n"
     ]
    }
   ],
   "source": [
    "df.info()"
   ]
  },
  {
   "cell_type": "code",
   "execution_count": 18,
   "id": "a76cee72",
   "metadata": {},
   "outputs": [
    {
     "data": {
      "text/html": [
       "<div>\n",
       "<style scoped>\n",
       "    .dataframe tbody tr th:only-of-type {\n",
       "        vertical-align: middle;\n",
       "    }\n",
       "\n",
       "    .dataframe tbody tr th {\n",
       "        vertical-align: top;\n",
       "    }\n",
       "\n",
       "    .dataframe thead th {\n",
       "        text-align: right;\n",
       "    }\n",
       "</style>\n",
       "<table border=\"1\" class=\"dataframe\">\n",
       "  <thead>\n",
       "    <tr style=\"text-align: right;\">\n",
       "      <th></th>\n",
       "      <th>state</th>\n",
       "      <th>stop_date</th>\n",
       "      <th>driver_gender</th>\n",
       "      <th>driver_age</th>\n",
       "      <th>driver_race_raw</th>\n",
       "      <th>driver_race</th>\n",
       "      <th>violation</th>\n",
       "      <th>search_type</th>\n",
       "      <th>contraband_found</th>\n",
       "      <th>stop_outcome</th>\n",
       "      <th>search_basis</th>\n",
       "      <th>officer_id</th>\n",
       "      <th>drugs_related_stop</th>\n",
       "      <th>district</th>\n",
       "    </tr>\n",
       "  </thead>\n",
       "  <tbody>\n",
       "    <tr>\n",
       "      <th>0</th>\n",
       "      <td>NC</td>\n",
       "      <td>2000-07-31</td>\n",
       "      <td>M</td>\n",
       "      <td>23.0</td>\n",
       "      <td>W N</td>\n",
       "      <td>White</td>\n",
       "      <td>Speeding</td>\n",
       "      <td>No Search Conducted</td>\n",
       "      <td>False</td>\n",
       "      <td>Arrest</td>\n",
       "      <td>No Search Conducted</td>\n",
       "      <td>10606</td>\n",
       "      <td>NaN</td>\n",
       "      <td>E3</td>\n",
       "    </tr>\n",
       "    <tr>\n",
       "      <th>1</th>\n",
       "      <td>NC</td>\n",
       "      <td>2000-07-31</td>\n",
       "      <td>F</td>\n",
       "      <td>29.0</td>\n",
       "      <td>W N</td>\n",
       "      <td>White</td>\n",
       "      <td>Speeding</td>\n",
       "      <td>No Search Conducted</td>\n",
       "      <td>False</td>\n",
       "      <td>Arrest</td>\n",
       "      <td>No Search Conducted</td>\n",
       "      <td>10606</td>\n",
       "      <td>NaN</td>\n",
       "      <td>E3</td>\n",
       "    </tr>\n",
       "    <tr>\n",
       "      <th>2</th>\n",
       "      <td>NC</td>\n",
       "      <td>2000-07-31</td>\n",
       "      <td>F</td>\n",
       "      <td>49.0</td>\n",
       "      <td>B N</td>\n",
       "      <td>Black</td>\n",
       "      <td>Speeding</td>\n",
       "      <td>No Search Conducted</td>\n",
       "      <td>False</td>\n",
       "      <td>Arrest</td>\n",
       "      <td>No Search Conducted</td>\n",
       "      <td>10606</td>\n",
       "      <td>NaN</td>\n",
       "      <td>E3</td>\n",
       "    </tr>\n",
       "    <tr>\n",
       "      <th>3</th>\n",
       "      <td>NC</td>\n",
       "      <td>2000-07-31</td>\n",
       "      <td>M</td>\n",
       "      <td>29.0</td>\n",
       "      <td>B N</td>\n",
       "      <td>Black</td>\n",
       "      <td>Speeding</td>\n",
       "      <td>No Search Conducted</td>\n",
       "      <td>False</td>\n",
       "      <td>Arrest</td>\n",
       "      <td>No Search Conducted</td>\n",
       "      <td>10606</td>\n",
       "      <td>NaN</td>\n",
       "      <td>E3</td>\n",
       "    </tr>\n",
       "    <tr>\n",
       "      <th>4</th>\n",
       "      <td>NC</td>\n",
       "      <td>2000-07-31</td>\n",
       "      <td>M</td>\n",
       "      <td>24.0</td>\n",
       "      <td>U H</td>\n",
       "      <td>Hispanic</td>\n",
       "      <td>Speeding</td>\n",
       "      <td>No Search Conducted</td>\n",
       "      <td>False</td>\n",
       "      <td>Arrest</td>\n",
       "      <td>No Search Conducted</td>\n",
       "      <td>10606</td>\n",
       "      <td>NaN</td>\n",
       "      <td>E3</td>\n",
       "    </tr>\n",
       "  </tbody>\n",
       "</table>\n",
       "</div>"
      ],
      "text/plain": [
       "  state   stop_date driver_gender  driver_age driver_race_raw driver_race  \\\n",
       "0    NC  2000-07-31             M        23.0             W N       White   \n",
       "1    NC  2000-07-31             F        29.0             W N       White   \n",
       "2    NC  2000-07-31             F        49.0             B N       Black   \n",
       "3    NC  2000-07-31             M        29.0             B N       Black   \n",
       "4    NC  2000-07-31             M        24.0             U H    Hispanic   \n",
       "\n",
       "  violation          search_type  contraband_found stop_outcome  \\\n",
       "0  Speeding  No Search Conducted             False       Arrest   \n",
       "1  Speeding  No Search Conducted             False       Arrest   \n",
       "2  Speeding  No Search Conducted             False       Arrest   \n",
       "3  Speeding  No Search Conducted             False       Arrest   \n",
       "4  Speeding  No Search Conducted             False       Arrest   \n",
       "\n",
       "          search_basis  officer_id drugs_related_stop district  \n",
       "0  No Search Conducted       10606                NaN       E3  \n",
       "1  No Search Conducted       10606                NaN       E3  \n",
       "2  No Search Conducted       10606                NaN       E3  \n",
       "3  No Search Conducted       10606                NaN       E3  \n",
       "4  No Search Conducted       10606                NaN       E3  "
      ]
     },
     "execution_count": 18,
     "metadata": {},
     "output_type": "execute_result"
    }
   ],
   "source": [
    "df.head()"
   ]
  },
  {
   "cell_type": "markdown",
   "id": "6cc0bb21",
   "metadata": {},
   "source": [
    "### Based on the basic data information, we can deduce:\n",
    "\n",
    "- Total Entries: 403087 entries in total.\n",
    "- Missing Values: 91 in **'driver_age'**, 397708 in **'drugs_related_stop'** and 38 in **'district'**.\n",
    "- Data Types: Most columns have the object as string, **'driver_age'** and **'officer_id'** as numeric(float and int), ans one boolean type **'contraband_found'**.\n",
    "\n",
    "### Features that we could drop:\n",
    "\n",
    "- **state** : The dataset is based on North carolina (NC) also we dont need this column. drop it.\n",
    "- either **'4 driver_race_raw'** or **'5 driver_race'** : These two are presumed to be similar information, Dh. one of them drop\n",
    "- **'rugs_related_stop'**: There are so many missing values. it will be no meaningful dataset.\n",
    "- **'driver_race_raw'** combines two codes to give a more specific race and origin information and **'driver_race'** priveds more simpler and vivid classification of race, with five clear categories: White, Black, Hispanic, Other and Asian. Because of siplification and interpretability we will use **'driver_race'** column and remove **'driver_race_raw'**.\n",
    "\n",
    "### Conclusion:\n",
    "We will drop **'state'** and **'drugs_related_stop'** and **'driver_race_raw'**."
   ]
  },
  {
   "cell_type": "code",
   "execution_count": 19,
   "id": "b2216270",
   "metadata": {},
   "outputs": [
    {
     "name": "stdout",
     "output_type": "stream",
     "text": [
      "    stop_date driver_gender  driver_age driver_race violation  \\\n",
      "0  2000-07-31             M        23.0       White  Speeding   \n",
      "1  2000-07-31             F        29.0       White  Speeding   \n",
      "2  2000-07-31             F        49.0       Black  Speeding   \n",
      "3  2000-07-31             M        29.0       Black  Speeding   \n",
      "4  2000-07-31             M        24.0    Hispanic  Speeding   \n",
      "\n",
      "           search_type  contraband_found stop_outcome         search_basis  \\\n",
      "0  No Search Conducted             False       Arrest  No Search Conducted   \n",
      "1  No Search Conducted             False       Arrest  No Search Conducted   \n",
      "2  No Search Conducted             False       Arrest  No Search Conducted   \n",
      "3  No Search Conducted             False       Arrest  No Search Conducted   \n",
      "4  No Search Conducted             False       Arrest  No Search Conducted   \n",
      "\n",
      "   officer_id district  \n",
      "0       10606       E3  \n",
      "1       10606       E3  \n",
      "2       10606       E3  \n",
      "3       10606       E3  \n",
      "4       10606       E3  \n"
     ]
    }
   ],
   "source": [
    "# drop unnecessary values\n",
    "df.drop(columns=['state','driver_race_raw','drugs_related_stop','stop_outcome'], inplace=True)\n",
    "\n",
    "print(df.head())"
   ]
  },
  {
   "cell_type": "code",
   "execution_count": 20,
   "id": "83449106",
   "metadata": {},
   "outputs": [],
   "source": [
    "# for Missing values\n",
    "df.dropna(inplace=True)\n",
    "\n",
    "#Converting\n",
    "# 'stop_date' to datetime formation.\n",
    "# extract 년/월/일 as separate features\n",
    "# 각각 따로 분류하면 년/월/일에 경향성 학습 가능성 높아져\n",
    "df['stop_date'] = pd.to_datetime(df['stop_date'])\n",
    "df['year'] = df['stop_date'].dt.year\n",
    "df['month'] = df['stop_date'].dt.month\n",
    "df['day'] = df['stop_date'].dt.day\n",
    "df.drop(columns='stop_date', inplace=True)\n",
    "\n",
    "# target column 'stop_outcome' to binary format (Arrest=1, Other=0)\n",
    "stop_outcome_replacements = {\"Arrest\": 1, \"Not Arrest\": 0}\n",
    "df['stop_outcome'] = df['stop_outcome'].replace(stop_outcome_replacements)\n",
    "\n",
    "# for Missing values\n",
    "#df.dropna(inplace=True)\n",
    "\n",
    "# Use LabelEncoder for binary categorical columns\n",
    "le = LabelEncoder()\n",
    "df['driver_gender'] = le.fit_transform(df['driver_gender'])\n",
    "df['contraband_found'] = le.fit_transform(df['contraband_found'])\n",
    "\n",
    "# One-hot encoding for other categorical columns\n",
    "df = pd.get_dummies(df, columns=['driver_race', 'violation', 'search_type', 'search_basis', 'district'])\n",
    "\n"
   ]
  },
  {
   "cell_type": "markdown",
   "id": "62030682",
   "metadata": {},
   "source": [
    "-labelencoder : binary category사용, M = 1 / F = 0으로 변환 가능 numeric variable로 변환되면 모델에 적용 가능\n",
    "-one-hot encoding : multiple category에 사용(=2개 이상의 값)```pd.get_dummies``` **(Assignment02!)** 사용\n",
    "-stop_date convert : 연/월/일 분해시 경향성 학습 굿\n",
    "\n",
    "이거는 리포트에 써야할듯.."
   ]
  },
  {
   "cell_type": "code",
   "execution_count": 21,
   "id": "92156ccb",
   "metadata": {
    "scrolled": false
   },
   "outputs": [
    {
     "data": {
      "text/html": [
       "<div>\n",
       "<style scoped>\n",
       "    .dataframe tbody tr th:only-of-type {\n",
       "        vertical-align: middle;\n",
       "    }\n",
       "\n",
       "    .dataframe tbody tr th {\n",
       "        vertical-align: top;\n",
       "    }\n",
       "\n",
       "    .dataframe thead th {\n",
       "        text-align: right;\n",
       "    }\n",
       "</style>\n",
       "<table border=\"1\" class=\"dataframe\">\n",
       "  <thead>\n",
       "    <tr style=\"text-align: right;\">\n",
       "      <th></th>\n",
       "      <th>driver_gender</th>\n",
       "      <th>driver_age</th>\n",
       "      <th>contraband_found</th>\n",
       "      <th>stop_outcome</th>\n",
       "      <th>officer_id</th>\n",
       "      <th>year</th>\n",
       "      <th>month</th>\n",
       "      <th>day</th>\n",
       "      <th>driver_race_Asian</th>\n",
       "      <th>driver_race_Black</th>\n",
       "      <th>...</th>\n",
       "      <th>district_G4</th>\n",
       "      <th>district_G5</th>\n",
       "      <th>district_G6</th>\n",
       "      <th>district_G7</th>\n",
       "      <th>district_H1</th>\n",
       "      <th>district_H2</th>\n",
       "      <th>district_H3</th>\n",
       "      <th>district_H4</th>\n",
       "      <th>district_H5</th>\n",
       "      <th>district_H6</th>\n",
       "    </tr>\n",
       "  </thead>\n",
       "  <tbody>\n",
       "    <tr>\n",
       "      <th>0</th>\n",
       "      <td>1</td>\n",
       "      <td>23.0</td>\n",
       "      <td>0</td>\n",
       "      <td>1</td>\n",
       "      <td>10606</td>\n",
       "      <td>2000</td>\n",
       "      <td>7</td>\n",
       "      <td>31</td>\n",
       "      <td>0</td>\n",
       "      <td>0</td>\n",
       "      <td>...</td>\n",
       "      <td>0</td>\n",
       "      <td>0</td>\n",
       "      <td>0</td>\n",
       "      <td>0</td>\n",
       "      <td>0</td>\n",
       "      <td>0</td>\n",
       "      <td>0</td>\n",
       "      <td>0</td>\n",
       "      <td>0</td>\n",
       "      <td>0</td>\n",
       "    </tr>\n",
       "    <tr>\n",
       "      <th>1</th>\n",
       "      <td>0</td>\n",
       "      <td>29.0</td>\n",
       "      <td>0</td>\n",
       "      <td>1</td>\n",
       "      <td>10606</td>\n",
       "      <td>2000</td>\n",
       "      <td>7</td>\n",
       "      <td>31</td>\n",
       "      <td>0</td>\n",
       "      <td>0</td>\n",
       "      <td>...</td>\n",
       "      <td>0</td>\n",
       "      <td>0</td>\n",
       "      <td>0</td>\n",
       "      <td>0</td>\n",
       "      <td>0</td>\n",
       "      <td>0</td>\n",
       "      <td>0</td>\n",
       "      <td>0</td>\n",
       "      <td>0</td>\n",
       "      <td>0</td>\n",
       "    </tr>\n",
       "    <tr>\n",
       "      <th>2</th>\n",
       "      <td>0</td>\n",
       "      <td>49.0</td>\n",
       "      <td>0</td>\n",
       "      <td>1</td>\n",
       "      <td>10606</td>\n",
       "      <td>2000</td>\n",
       "      <td>7</td>\n",
       "      <td>31</td>\n",
       "      <td>0</td>\n",
       "      <td>1</td>\n",
       "      <td>...</td>\n",
       "      <td>0</td>\n",
       "      <td>0</td>\n",
       "      <td>0</td>\n",
       "      <td>0</td>\n",
       "      <td>0</td>\n",
       "      <td>0</td>\n",
       "      <td>0</td>\n",
       "      <td>0</td>\n",
       "      <td>0</td>\n",
       "      <td>0</td>\n",
       "    </tr>\n",
       "    <tr>\n",
       "      <th>3</th>\n",
       "      <td>1</td>\n",
       "      <td>29.0</td>\n",
       "      <td>0</td>\n",
       "      <td>1</td>\n",
       "      <td>10606</td>\n",
       "      <td>2000</td>\n",
       "      <td>7</td>\n",
       "      <td>31</td>\n",
       "      <td>0</td>\n",
       "      <td>1</td>\n",
       "      <td>...</td>\n",
       "      <td>0</td>\n",
       "      <td>0</td>\n",
       "      <td>0</td>\n",
       "      <td>0</td>\n",
       "      <td>0</td>\n",
       "      <td>0</td>\n",
       "      <td>0</td>\n",
       "      <td>0</td>\n",
       "      <td>0</td>\n",
       "      <td>0</td>\n",
       "    </tr>\n",
       "    <tr>\n",
       "      <th>4</th>\n",
       "      <td>1</td>\n",
       "      <td>24.0</td>\n",
       "      <td>0</td>\n",
       "      <td>1</td>\n",
       "      <td>10606</td>\n",
       "      <td>2000</td>\n",
       "      <td>7</td>\n",
       "      <td>31</td>\n",
       "      <td>0</td>\n",
       "      <td>0</td>\n",
       "      <td>...</td>\n",
       "      <td>0</td>\n",
       "      <td>0</td>\n",
       "      <td>0</td>\n",
       "      <td>0</td>\n",
       "      <td>0</td>\n",
       "      <td>0</td>\n",
       "      <td>0</td>\n",
       "      <td>0</td>\n",
       "      <td>0</td>\n",
       "      <td>0</td>\n",
       "    </tr>\n",
       "  </tbody>\n",
       "</table>\n",
       "<p>5 rows × 117 columns</p>\n",
       "</div>"
      ],
      "text/plain": [
       "   driver_gender  driver_age  contraband_found stop_outcome  officer_id  year  \\\n",
       "0              1        23.0                 0            1       10606  2000   \n",
       "1              0        29.0                 0            1       10606  2000   \n",
       "2              0        49.0                 0            1       10606  2000   \n",
       "3              1        29.0                 0            1       10606  2000   \n",
       "4              1        24.0                 0            1       10606  2000   \n",
       "\n",
       "   month  day  driver_race_Asian  driver_race_Black  ...  district_G4  \\\n",
       "0      7   31                  0                  0  ...            0   \n",
       "1      7   31                  0                  0  ...            0   \n",
       "2      7   31                  0                  1  ...            0   \n",
       "3      7   31                  0                  1  ...            0   \n",
       "4      7   31                  0                  0  ...            0   \n",
       "\n",
       "   district_G5  district_G6  district_G7  district_H1  district_H2  \\\n",
       "0            0            0            0            0            0   \n",
       "1            0            0            0            0            0   \n",
       "2            0            0            0            0            0   \n",
       "3            0            0            0            0            0   \n",
       "4            0            0            0            0            0   \n",
       "\n",
       "   district_H3  district_H4  district_H5  district_H6  \n",
       "0            0            0            0            0  \n",
       "1            0            0            0            0  \n",
       "2            0            0            0            0  \n",
       "3            0            0            0            0  \n",
       "4            0            0            0            0  \n",
       "\n",
       "[5 rows x 117 columns]"
      ]
     },
     "execution_count": 21,
     "metadata": {},
     "output_type": "execute_result"
    }
   ],
   "source": [
    "df.head()"
   ]
  },
  {
   "cell_type": "code",
   "execution_count": 22,
   "id": "6c9d9555",
   "metadata": {
    "scrolled": true
   },
   "outputs": [
    {
     "data": {
      "text/plain": [
       "driver_gender       0\n",
       "driver_age          0\n",
       "contraband_found    0\n",
       "stop_outcome        0\n",
       "officer_id          0\n",
       "                   ..\n",
       "district_H2         0\n",
       "district_H3         0\n",
       "district_H4         0\n",
       "district_H5         0\n",
       "district_H6         0\n",
       "Length: 117, dtype: int64"
      ]
     },
     "execution_count": 22,
     "metadata": {},
     "output_type": "execute_result"
    }
   ],
   "source": [
    "df.isna().sum()"
   ]
  },
  {
   "cell_type": "markdown",
   "id": "e9e68119",
   "metadata": {},
   "source": [
    "NaN을 fillna / dropna / interpolate 뭘 써야할지 모르겟댜.."
   ]
  },
  {
   "cell_type": "code",
   "execution_count": 23,
   "id": "a988a8d3",
   "metadata": {
    "scrolled": true
   },
   "outputs": [
    {
     "data": {
      "text/plain": [
       "driver_gender         int64\n",
       "driver_age          float64\n",
       "contraband_found      int64\n",
       "stop_outcome         object\n",
       "officer_id            int64\n",
       "                     ...   \n",
       "district_H2           uint8\n",
       "district_H3           uint8\n",
       "district_H4           uint8\n",
       "district_H5           uint8\n",
       "district_H6           uint8\n",
       "Length: 117, dtype: object"
      ]
     },
     "execution_count": 23,
     "metadata": {},
     "output_type": "execute_result"
    }
   ],
   "source": [
    "df.dtypes"
   ]
  },
  {
   "cell_type": "code",
   "execution_count": 31,
   "id": "0195eca8",
   "metadata": {},
   "outputs": [],
   "source": [
    "#df"
   ]
  },
  {
   "cell_type": "code",
   "execution_count": null,
   "id": "d6b7f6b5",
   "metadata": {},
   "outputs": [],
   "source": []
  },
  {
   "cell_type": "markdown",
   "id": "e0e9a061",
   "metadata": {},
   "source": [
    "다시 data를 확인하면 모두 numeric으로 바뀐것을 알 수 있다. "
   ]
  },
  {
   "cell_type": "markdown",
   "id": "b0e9da6f",
   "metadata": {},
   "source": [
    "### Generate two binary classifiers using two different methods of your liking and compare their performances against a dummy classifier, which always predicts “not arrested”."
   ]
  },
  {
   "cell_type": "code",
   "execution_count": 44,
   "id": "bd1ac3b5",
   "metadata": {},
   "outputs": [],
   "source": [
    "# data split to training set & test sets\n",
    "X = df.drop('stop_outcome', axis=1)\n",
    "\n",
    "y = (df['stop_outcome'] == \"Arrested\").astype(int)\n",
    "X_train, X_test, y_train, y_test = train_test_split(X, y, test_size=0.3, random_state=5)\n",
    "#X_train, X_test, y_train, y_test = train_test_split(X, y, test_size=0.3, stratify=y)"
   ]
  },
  {
   "cell_type": "code",
   "execution_count": 45,
   "id": "10797060",
   "metadata": {
    "scrolled": true
   },
   "outputs": [],
   "source": [
    "# Standardizing features\n",
    "scaler = StandardScaler()\n",
    "X_train = scaler.fit_transform(X_train)\n",
    "X_test = scaler.transform(X_test)"
   ]
  },
  {
   "cell_type": "code",
   "execution_count": 42,
   "id": "ba2f3475",
   "metadata": {
    "scrolled": false
   },
   "outputs": [
    {
     "ename": "ValueError",
     "evalue": "The number of classes has to be greater than one; got 1 class",
     "output_type": "error",
     "traceback": [
      "\u001b[0;31m---------------------------------------------------------------------------\u001b[0m",
      "\u001b[0;31mValueError\u001b[0m                                Traceback (most recent call last)",
      "Cell \u001b[0;32mIn[42], line 3\u001b[0m\n\u001b[1;32m      1\u001b[0m \u001b[38;5;66;03m# SVM Classifier\u001b[39;00m\n\u001b[1;32m      2\u001b[0m svm \u001b[38;5;241m=\u001b[39m SVC(kernel\u001b[38;5;241m=\u001b[39m\u001b[38;5;124m'\u001b[39m\u001b[38;5;124mlinear\u001b[39m\u001b[38;5;124m'\u001b[39m)\n\u001b[0;32m----> 3\u001b[0m \u001b[43msvm\u001b[49m\u001b[38;5;241;43m.\u001b[39;49m\u001b[43mfit\u001b[49m\u001b[43m(\u001b[49m\u001b[43mX_train\u001b[49m\u001b[43m,\u001b[49m\u001b[43m \u001b[49m\u001b[43my_train\u001b[49m\u001b[43m)\u001b[49m\n\u001b[1;32m      4\u001b[0m svm_pred \u001b[38;5;241m=\u001b[39m svm\u001b[38;5;241m.\u001b[39mpredict(X_test)\n",
      "File \u001b[0;32m~/anaconda3/lib/python3.10/site-packages/sklearn/svm/_base.py:182\u001b[0m, in \u001b[0;36mBaseLibSVM.fit\u001b[0;34m(self, X, y, sample_weight)\u001b[0m\n\u001b[1;32m    172\u001b[0m \u001b[38;5;28;01melse\u001b[39;00m:\n\u001b[1;32m    173\u001b[0m     X, y \u001b[38;5;241m=\u001b[39m \u001b[38;5;28mself\u001b[39m\u001b[38;5;241m.\u001b[39m_validate_data(\n\u001b[1;32m    174\u001b[0m         X,\n\u001b[1;32m    175\u001b[0m         y,\n\u001b[0;32m   (...)\u001b[0m\n\u001b[1;32m    179\u001b[0m         accept_large_sparse\u001b[38;5;241m=\u001b[39m\u001b[38;5;28;01mFalse\u001b[39;00m,\n\u001b[1;32m    180\u001b[0m     )\n\u001b[0;32m--> 182\u001b[0m y \u001b[38;5;241m=\u001b[39m \u001b[38;5;28;43mself\u001b[39;49m\u001b[38;5;241;43m.\u001b[39;49m\u001b[43m_validate_targets\u001b[49m\u001b[43m(\u001b[49m\u001b[43my\u001b[49m\u001b[43m)\u001b[49m\n\u001b[1;32m    184\u001b[0m sample_weight \u001b[38;5;241m=\u001b[39m np\u001b[38;5;241m.\u001b[39masarray(\n\u001b[1;32m    185\u001b[0m     [] \u001b[38;5;28;01mif\u001b[39;00m sample_weight \u001b[38;5;129;01mis\u001b[39;00m \u001b[38;5;28;01mNone\u001b[39;00m \u001b[38;5;28;01melse\u001b[39;00m sample_weight, dtype\u001b[38;5;241m=\u001b[39mnp\u001b[38;5;241m.\u001b[39mfloat64\n\u001b[1;32m    186\u001b[0m )\n\u001b[1;32m    187\u001b[0m solver_type \u001b[38;5;241m=\u001b[39m LIBSVM_IMPL\u001b[38;5;241m.\u001b[39mindex(\u001b[38;5;28mself\u001b[39m\u001b[38;5;241m.\u001b[39m_impl)\n",
      "File \u001b[0;32m~/anaconda3/lib/python3.10/site-packages/sklearn/svm/_base.py:739\u001b[0m, in \u001b[0;36mBaseSVC._validate_targets\u001b[0;34m(self, y)\u001b[0m\n\u001b[1;32m    737\u001b[0m \u001b[38;5;28mself\u001b[39m\u001b[38;5;241m.\u001b[39mclass_weight_ \u001b[38;5;241m=\u001b[39m compute_class_weight(\u001b[38;5;28mself\u001b[39m\u001b[38;5;241m.\u001b[39mclass_weight, classes\u001b[38;5;241m=\u001b[39m\u001b[38;5;28mcls\u001b[39m, y\u001b[38;5;241m=\u001b[39my_)\n\u001b[1;32m    738\u001b[0m \u001b[38;5;28;01mif\u001b[39;00m \u001b[38;5;28mlen\u001b[39m(\u001b[38;5;28mcls\u001b[39m) \u001b[38;5;241m<\u001b[39m \u001b[38;5;241m2\u001b[39m:\n\u001b[0;32m--> 739\u001b[0m     \u001b[38;5;28;01mraise\u001b[39;00m \u001b[38;5;167;01mValueError\u001b[39;00m(\n\u001b[1;32m    740\u001b[0m         \u001b[38;5;124m\"\u001b[39m\u001b[38;5;124mThe number of classes has to be greater than one; got \u001b[39m\u001b[38;5;132;01m%d\u001b[39;00m\u001b[38;5;124m class\u001b[39m\u001b[38;5;124m\"\u001b[39m\n\u001b[1;32m    741\u001b[0m         \u001b[38;5;241m%\u001b[39m \u001b[38;5;28mlen\u001b[39m(\u001b[38;5;28mcls\u001b[39m)\n\u001b[1;32m    742\u001b[0m     )\n\u001b[1;32m    744\u001b[0m \u001b[38;5;28mself\u001b[39m\u001b[38;5;241m.\u001b[39mclasses_ \u001b[38;5;241m=\u001b[39m \u001b[38;5;28mcls\u001b[39m\n\u001b[1;32m    746\u001b[0m \u001b[38;5;28;01mreturn\u001b[39;00m np\u001b[38;5;241m.\u001b[39masarray(y, dtype\u001b[38;5;241m=\u001b[39mnp\u001b[38;5;241m.\u001b[39mfloat64, order\u001b[38;5;241m=\u001b[39m\u001b[38;5;124m\"\u001b[39m\u001b[38;5;124mC\u001b[39m\u001b[38;5;124m\"\u001b[39m)\n",
      "\u001b[0;31mValueError\u001b[0m: The number of classes has to be greater than one; got 1 class"
     ]
    }
   ],
   "source": [
    "# SVM Classifier\n",
    "svm = SVC(kernel='linear')\n",
    "svm.fit(X_train, y_train)\n",
    "svm_pred = svm.predict(X_test)"
   ]
  },
  {
   "cell_type": "code",
   "execution_count": 43,
   "id": "db90ea8d",
   "metadata": {},
   "outputs": [
    {
     "ename": "ValueError",
     "evalue": "This solver needs samples of at least 2 classes in the data, but the data contains only one class: 0",
     "output_type": "error",
     "traceback": [
      "\u001b[0;31m---------------------------------------------------------------------------\u001b[0m",
      "\u001b[0;31mValueError\u001b[0m                                Traceback (most recent call last)",
      "Cell \u001b[0;32mIn[43], line 3\u001b[0m\n\u001b[1;32m      1\u001b[0m \u001b[38;5;66;03m# Logistic Regression\u001b[39;00m\n\u001b[1;32m      2\u001b[0m log_reg \u001b[38;5;241m=\u001b[39m LogisticRegression(max_iter\u001b[38;5;241m=\u001b[39m\u001b[38;5;241m1000\u001b[39m)\n\u001b[0;32m----> 3\u001b[0m \u001b[43mlog_reg\u001b[49m\u001b[38;5;241;43m.\u001b[39;49m\u001b[43mfit\u001b[49m\u001b[43m(\u001b[49m\u001b[43mX_train\u001b[49m\u001b[43m,\u001b[49m\u001b[43m \u001b[49m\u001b[43my_train\u001b[49m\u001b[43m)\u001b[49m\n\u001b[1;32m      4\u001b[0m log_reg_pred \u001b[38;5;241m=\u001b[39m log_reg\u001b[38;5;241m.\u001b[39mpredict(X_test)\n",
      "File \u001b[0;32m~/anaconda3/lib/python3.10/site-packages/sklearn/linear_model/_logistic.py:1183\u001b[0m, in \u001b[0;36mLogisticRegression.fit\u001b[0;34m(self, X, y, sample_weight)\u001b[0m\n\u001b[1;32m   1181\u001b[0m classes_ \u001b[38;5;241m=\u001b[39m \u001b[38;5;28mself\u001b[39m\u001b[38;5;241m.\u001b[39mclasses_\n\u001b[1;32m   1182\u001b[0m \u001b[38;5;28;01mif\u001b[39;00m n_classes \u001b[38;5;241m<\u001b[39m \u001b[38;5;241m2\u001b[39m:\n\u001b[0;32m-> 1183\u001b[0m     \u001b[38;5;28;01mraise\u001b[39;00m \u001b[38;5;167;01mValueError\u001b[39;00m(\n\u001b[1;32m   1184\u001b[0m         \u001b[38;5;124m\"\u001b[39m\u001b[38;5;124mThis solver needs samples of at least 2 classes\u001b[39m\u001b[38;5;124m\"\u001b[39m\n\u001b[1;32m   1185\u001b[0m         \u001b[38;5;124m\"\u001b[39m\u001b[38;5;124m in the data, but the data contains only one\u001b[39m\u001b[38;5;124m\"\u001b[39m\n\u001b[1;32m   1186\u001b[0m         \u001b[38;5;124m\"\u001b[39m\u001b[38;5;124m class: \u001b[39m\u001b[38;5;132;01m%r\u001b[39;00m\u001b[38;5;124m\"\u001b[39m\n\u001b[1;32m   1187\u001b[0m         \u001b[38;5;241m%\u001b[39m classes_[\u001b[38;5;241m0\u001b[39m]\n\u001b[1;32m   1188\u001b[0m     )\n\u001b[1;32m   1190\u001b[0m \u001b[38;5;28;01mif\u001b[39;00m \u001b[38;5;28mlen\u001b[39m(\u001b[38;5;28mself\u001b[39m\u001b[38;5;241m.\u001b[39mclasses_) \u001b[38;5;241m==\u001b[39m \u001b[38;5;241m2\u001b[39m:\n\u001b[1;32m   1191\u001b[0m     n_classes \u001b[38;5;241m=\u001b[39m \u001b[38;5;241m1\u001b[39m\n",
      "\u001b[0;31mValueError\u001b[0m: This solver needs samples of at least 2 classes in the data, but the data contains only one class: 0"
     ]
    }
   ],
   "source": [
    "# Logistic Regression\n",
    "log_reg = LogisticRegression(max_iter=1000)\n",
    "log_reg.fit(X_train, y_train)\n",
    "log_reg_pred = log_reg.predict(X_test)"
   ]
  },
  {
   "cell_type": "code",
   "execution_count": 36,
   "id": "5c6a0159",
   "metadata": {},
   "outputs": [],
   "source": [
    "\n",
    "# Dummy Classifier\n",
    "dummy = DummyClassifier(strategy=\"most_frequent\")\n",
    "dummy.fit(X_train, y_train)\n",
    "dummy_pred = dummy.predict(X_test)\n",
    "\n"
   ]
  },
  {
   "cell_type": "code",
   "execution_count": null,
   "id": "d7c40e1a",
   "metadata": {},
   "outputs": [],
   "source": [
    "\n",
    "# 성능 평가\n",
    "print(\"SVM Classifier Performance:\")\n",
    "print(classification_report(y_test, svm_pred))\n",
    "print(\"\\nLogistic Regression Performance:\")\n",
    "print(classification_report(y_test, log_reg_pred))\n",
    "print(\"\\nDummy Classifier Performance:\")\n",
    "print(classification_report(y_test, dummy_pred))\n"
   ]
  },
  {
   "cell_type": "code",
   "execution_count": null,
   "id": "8889c372",
   "metadata": {},
   "outputs": [],
   "source": []
  },
  {
   "cell_type": "code",
   "execution_count": null,
   "id": "77e76d55",
   "metadata": {},
   "outputs": [],
   "source": []
  }
 ],
 "metadata": {
  "kernelspec": {
   "display_name": "Python 3 (ipykernel)",
   "language": "python",
   "name": "python3"
  },
  "language_info": {
   "codemirror_mode": {
    "name": "ipython",
    "version": 3
   },
   "file_extension": ".py",
   "mimetype": "text/x-python",
   "name": "python",
   "nbconvert_exporter": "python",
   "pygments_lexer": "ipython3",
   "version": "3.10.9"
  }
 },
 "nbformat": 4,
 "nbformat_minor": 5
}
